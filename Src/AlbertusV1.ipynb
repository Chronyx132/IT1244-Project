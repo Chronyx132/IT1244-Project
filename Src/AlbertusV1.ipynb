{
  "cells": [
    {
      "cell_type": "markdown",
      "metadata": {
        "id": "wYEAb3qI362e"
      },
      "source": [
        "# IT1244 Project"
      ]
    },
    {
      "cell_type": "markdown",
      "metadata": {
        "id": "uEnHiGZI362f"
      },
      "source": [
        "## Import Libraries"
      ]
    },
    {
      "cell_type": "code",
      "source": [
        "from google.colab import drive\n",
        "drive.mount('/content/drive')"
      ],
      "metadata": {
        "id": "lAPE3G9pE7hC"
      },
      "execution_count": null,
      "outputs": []
    },
    {
      "cell_type": "code",
      "source": [],
      "metadata": {
        "id": "XRl83eFTFJ4Z"
      },
      "execution_count": null,
      "outputs": []
    },
    {
      "cell_type": "code",
      "execution_count": 119,
      "metadata": {
        "id": "GHrBnjxM362g"
      },
      "outputs": [],
      "source": [
        "import re as re\n",
        "import heapq as heapq\n",
        "import pandas as pd\n",
        "import numpy as np\n",
        "import seaborn as sns\n",
        "import matplotlib.pyplot as plt\n",
        "from scipy.stats import chi2_contingency\n",
        "from sklearn.preprocessing import OneHotEncoder, StandardScaler, MultiLabelBinarizer, Normalizer\n",
        "from sklearn.model_selection import train_test_split\n",
        "from sklearn.metrics.pairwise import cosine_similarity\n",
        "from sklearn.cluster import KMeans\n",
        "import random as random\n",
        "from sklearn.preprocessing import StandardScaler\n",
        "import pyarrow as pa\n",
        "import pyarrow.parquet as pq\n",
        "from sklearn.decomposition import PCA\n",
        "from wordcloud import WordCloud, STOPWORDS\n",
        "import nltk\n",
        "from nltk.corpus import stopwords\n",
        "from collections import Counter"
      ]
    },
    {
      "cell_type": "markdown",
      "metadata": {
        "id": "6f-ekPgG362g"
      },
      "source": [
        "### Import Bert Encoders"
      ]
    },
    {
      "cell_type": "code",
      "execution_count": 3,
      "metadata": {
        "id": "mDMjrYnn362h"
      },
      "outputs": [],
      "source": [
        "import torch as torch\n",
        "from transformers import BertModel\n",
        "from transformers import BertTokenizer, BertTokenizerFast"
      ]
    },
    {
      "cell_type": "markdown",
      "metadata": {
        "id": "UPzKhKpi362h"
      },
      "source": [
        "### Testing Bert Encoding"
      ]
    },
    {
      "cell_type": "code",
      "execution_count": 78,
      "metadata": {
        "id": "46f1b-4n362h"
      },
      "outputs": [],
      "source": [
        "\n",
        "# Load tokenizer and model\n",
        "#model = BertModel.from_pretrained('bert-base-uncased')\n",
        "#tokenizer = BertTokenizer.from_pretrained(\"bert-base-uncased\")\n",
        "\n",
        "tokenizer = AutoTokenizer.from_pretrained('vinai/bertweet-base', use_fast=True)\n",
        "model = AutoModel.from_pretrained('vinai/bertweet-base')\n",
        "# Encode sentences\n",
        "sentence1 = \"This is an example sentence with change negative.\"\n",
        "inputs1 = tokenizer(sentence1, return_tensors=\"pt\")\n",
        "\n",
        "sentence2 = \"This is an example sentence with change upset.\"\n",
        "inputs2 = tokenizer(sentence2, return_tensors=\"pt\")\n",
        "\n",
        "sentence3 = \"This is an example sentence with change happy.\"\n",
        "inputs3 = tokenizer(sentence3, return_tensors=\"pt\")\n",
        "\n",
        "# Get embeddings\n",
        "with torch.no_grad():\n",
        "    outputs1 = model(**inputs1)\n",
        "    outputs2 = model(**inputs2)\n",
        "    outputs3 = model(**inputs3)\n",
        "\n",
        "# Extract [CLS] token embedding (sentence-level representation)\n",
        "Vector_X = outputs1.last_hidden_state[:, 0, :]\n",
        "Vector_Y = outputs2.last_hidden_state[:, 0, :]\n",
        "Vector_Z = outputs3.last_hidden_state[:, 0, :]"
      ]
    },
    {
      "cell_type": "code",
      "execution_count": 18,
      "metadata": {
        "colab": {
          "base_uri": "https://localhost:8080/"
        },
        "id": "AgyA5kP-362h",
        "outputId": "53191873-153b-4142-a8e7-d227a356d7e2"
      },
      "outputs": [
        {
          "output_type": "stream",
          "name": "stdout",
          "text": [
            "0.9878988862037659\n",
            "0.9824893474578857\n"
          ]
        }
      ],
      "source": [
        "print(float(cosine_similarity(Vector_X, Vector_Y)[0][0]))\n",
        "print(float(cosine_similarity(Vector_X, Vector_Z)[0][0]))"
      ]
    },
    {
      "cell_type": "code",
      "execution_count": 79,
      "metadata": {
        "id": "xeIEUpwb362i"
      },
      "outputs": [],
      "source": [
        "def bert_encode(sentence):\n",
        "    inputs = tokenizer(sentence, return_tensors=\"pt\")\n",
        "    with torch.no_grad():\n",
        "        output = model(**inputs)\n",
        "    return output.last_hidden_state[:, 0, :]\n"
      ]
    },
    {
      "cell_type": "markdown",
      "metadata": {
        "id": "KURYM848362i"
      },
      "source": [
        "We can see that the closer concepts are have higher cosine similiarity"
      ]
    },
    {
      "cell_type": "markdown",
      "metadata": {
        "id": "eJPBk6Lh362i"
      },
      "source": [
        "## Data Importing"
      ]
    },
    {
      "cell_type": "code",
      "execution_count": 122,
      "metadata": {
        "colab": {
          "base_uri": "https://localhost:8080/",
          "height": 206
        },
        "id": "hUnYgYTC362i",
        "outputId": "3393155b-92e9-4ee4-98ea-26dfeef47664"
      },
      "outputs": [
        {
          "output_type": "execute_result",
          "data": {
            "text/plain": [
              "  airline_sentiment  sentiment_confidence  \\\n",
              "0           neutral                1.0000   \n",
              "1          positive                0.3486   \n",
              "2           neutral                0.6837   \n",
              "3          negative                1.0000   \n",
              "4          negative                1.0000   \n",
              "\n",
              "                                                text  \n",
              "0                @VirginAmerica What @dhepburn said.  \n",
              "1  @VirginAmerica plus you've added commercials t...  \n",
              "2  @VirginAmerica I didn't today... Must mean I n...  \n",
              "3  @VirginAmerica it's really aggressive to blast...  \n",
              "4  @VirginAmerica and it's a really big bad thing...  "
            ],
            "text/html": [
              "\n",
              "  <div id=\"df-27d3a1ef-c3f3-4102-881d-e92687afb389\" class=\"colab-df-container\">\n",
              "    <div>\n",
              "<style scoped>\n",
              "    .dataframe tbody tr th:only-of-type {\n",
              "        vertical-align: middle;\n",
              "    }\n",
              "\n",
              "    .dataframe tbody tr th {\n",
              "        vertical-align: top;\n",
              "    }\n",
              "\n",
              "    .dataframe thead th {\n",
              "        text-align: right;\n",
              "    }\n",
              "</style>\n",
              "<table border=\"1\" class=\"dataframe\">\n",
              "  <thead>\n",
              "    <tr style=\"text-align: right;\">\n",
              "      <th></th>\n",
              "      <th>airline_sentiment</th>\n",
              "      <th>sentiment_confidence</th>\n",
              "      <th>text</th>\n",
              "    </tr>\n",
              "  </thead>\n",
              "  <tbody>\n",
              "    <tr>\n",
              "      <th>0</th>\n",
              "      <td>neutral</td>\n",
              "      <td>1.0000</td>\n",
              "      <td>@VirginAmerica What @dhepburn said.</td>\n",
              "    </tr>\n",
              "    <tr>\n",
              "      <th>1</th>\n",
              "      <td>positive</td>\n",
              "      <td>0.3486</td>\n",
              "      <td>@VirginAmerica plus you've added commercials t...</td>\n",
              "    </tr>\n",
              "    <tr>\n",
              "      <th>2</th>\n",
              "      <td>neutral</td>\n",
              "      <td>0.6837</td>\n",
              "      <td>@VirginAmerica I didn't today... Must mean I n...</td>\n",
              "    </tr>\n",
              "    <tr>\n",
              "      <th>3</th>\n",
              "      <td>negative</td>\n",
              "      <td>1.0000</td>\n",
              "      <td>@VirginAmerica it's really aggressive to blast...</td>\n",
              "    </tr>\n",
              "    <tr>\n",
              "      <th>4</th>\n",
              "      <td>negative</td>\n",
              "      <td>1.0000</td>\n",
              "      <td>@VirginAmerica and it's a really big bad thing...</td>\n",
              "    </tr>\n",
              "  </tbody>\n",
              "</table>\n",
              "</div>\n",
              "    <div class=\"colab-df-buttons\">\n",
              "\n",
              "  <div class=\"colab-df-container\">\n",
              "    <button class=\"colab-df-convert\" onclick=\"convertToInteractive('df-27d3a1ef-c3f3-4102-881d-e92687afb389')\"\n",
              "            title=\"Convert this dataframe to an interactive table.\"\n",
              "            style=\"display:none;\">\n",
              "\n",
              "  <svg xmlns=\"http://www.w3.org/2000/svg\" height=\"24px\" viewBox=\"0 -960 960 960\">\n",
              "    <path d=\"M120-120v-720h720v720H120Zm60-500h600v-160H180v160Zm220 220h160v-160H400v160Zm0 220h160v-160H400v160ZM180-400h160v-160H180v160Zm440 0h160v-160H620v160ZM180-180h160v-160H180v160Zm440 0h160v-160H620v160Z\"/>\n",
              "  </svg>\n",
              "    </button>\n",
              "\n",
              "  <style>\n",
              "    .colab-df-container {\n",
              "      display:flex;\n",
              "      gap: 12px;\n",
              "    }\n",
              "\n",
              "    .colab-df-convert {\n",
              "      background-color: #E8F0FE;\n",
              "      border: none;\n",
              "      border-radius: 50%;\n",
              "      cursor: pointer;\n",
              "      display: none;\n",
              "      fill: #1967D2;\n",
              "      height: 32px;\n",
              "      padding: 0 0 0 0;\n",
              "      width: 32px;\n",
              "    }\n",
              "\n",
              "    .colab-df-convert:hover {\n",
              "      background-color: #E2EBFA;\n",
              "      box-shadow: 0px 1px 2px rgba(60, 64, 67, 0.3), 0px 1px 3px 1px rgba(60, 64, 67, 0.15);\n",
              "      fill: #174EA6;\n",
              "    }\n",
              "\n",
              "    .colab-df-buttons div {\n",
              "      margin-bottom: 4px;\n",
              "    }\n",
              "\n",
              "    [theme=dark] .colab-df-convert {\n",
              "      background-color: #3B4455;\n",
              "      fill: #D2E3FC;\n",
              "    }\n",
              "\n",
              "    [theme=dark] .colab-df-convert:hover {\n",
              "      background-color: #434B5C;\n",
              "      box-shadow: 0px 1px 3px 1px rgba(0, 0, 0, 0.15);\n",
              "      filter: drop-shadow(0px 1px 2px rgba(0, 0, 0, 0.3));\n",
              "      fill: #FFFFFF;\n",
              "    }\n",
              "  </style>\n",
              "\n",
              "    <script>\n",
              "      const buttonEl =\n",
              "        document.querySelector('#df-27d3a1ef-c3f3-4102-881d-e92687afb389 button.colab-df-convert');\n",
              "      buttonEl.style.display =\n",
              "        google.colab.kernel.accessAllowed ? 'block' : 'none';\n",
              "\n",
              "      async function convertToInteractive(key) {\n",
              "        const element = document.querySelector('#df-27d3a1ef-c3f3-4102-881d-e92687afb389');\n",
              "        const dataTable =\n",
              "          await google.colab.kernel.invokeFunction('convertToInteractive',\n",
              "                                                    [key], {});\n",
              "        if (!dataTable) return;\n",
              "\n",
              "        const docLinkHtml = 'Like what you see? Visit the ' +\n",
              "          '<a target=\"_blank\" href=https://colab.research.google.com/notebooks/data_table.ipynb>data table notebook</a>'\n",
              "          + ' to learn more about interactive tables.';\n",
              "        element.innerHTML = '';\n",
              "        dataTable['output_type'] = 'display_data';\n",
              "        await google.colab.output.renderOutput(dataTable, element);\n",
              "        const docLink = document.createElement('div');\n",
              "        docLink.innerHTML = docLinkHtml;\n",
              "        element.appendChild(docLink);\n",
              "      }\n",
              "    </script>\n",
              "  </div>\n",
              "\n",
              "\n",
              "<div id=\"df-7301b567-ee97-4b05-aeeb-7e9ad9707769\">\n",
              "  <button class=\"colab-df-quickchart\" onclick=\"quickchart('df-7301b567-ee97-4b05-aeeb-7e9ad9707769')\"\n",
              "            title=\"Suggest charts\"\n",
              "            style=\"display:none;\">\n",
              "\n",
              "<svg xmlns=\"http://www.w3.org/2000/svg\" height=\"24px\"viewBox=\"0 0 24 24\"\n",
              "     width=\"24px\">\n",
              "    <g>\n",
              "        <path d=\"M19 3H5c-1.1 0-2 .9-2 2v14c0 1.1.9 2 2 2h14c1.1 0 2-.9 2-2V5c0-1.1-.9-2-2-2zM9 17H7v-7h2v7zm4 0h-2V7h2v10zm4 0h-2v-4h2v4z\"/>\n",
              "    </g>\n",
              "</svg>\n",
              "  </button>\n",
              "\n",
              "<style>\n",
              "  .colab-df-quickchart {\n",
              "      --bg-color: #E8F0FE;\n",
              "      --fill-color: #1967D2;\n",
              "      --hover-bg-color: #E2EBFA;\n",
              "      --hover-fill-color: #174EA6;\n",
              "      --disabled-fill-color: #AAA;\n",
              "      --disabled-bg-color: #DDD;\n",
              "  }\n",
              "\n",
              "  [theme=dark] .colab-df-quickchart {\n",
              "      --bg-color: #3B4455;\n",
              "      --fill-color: #D2E3FC;\n",
              "      --hover-bg-color: #434B5C;\n",
              "      --hover-fill-color: #FFFFFF;\n",
              "      --disabled-bg-color: #3B4455;\n",
              "      --disabled-fill-color: #666;\n",
              "  }\n",
              "\n",
              "  .colab-df-quickchart {\n",
              "    background-color: var(--bg-color);\n",
              "    border: none;\n",
              "    border-radius: 50%;\n",
              "    cursor: pointer;\n",
              "    display: none;\n",
              "    fill: var(--fill-color);\n",
              "    height: 32px;\n",
              "    padding: 0;\n",
              "    width: 32px;\n",
              "  }\n",
              "\n",
              "  .colab-df-quickchart:hover {\n",
              "    background-color: var(--hover-bg-color);\n",
              "    box-shadow: 0 1px 2px rgba(60, 64, 67, 0.3), 0 1px 3px 1px rgba(60, 64, 67, 0.15);\n",
              "    fill: var(--button-hover-fill-color);\n",
              "  }\n",
              "\n",
              "  .colab-df-quickchart-complete:disabled,\n",
              "  .colab-df-quickchart-complete:disabled:hover {\n",
              "    background-color: var(--disabled-bg-color);\n",
              "    fill: var(--disabled-fill-color);\n",
              "    box-shadow: none;\n",
              "  }\n",
              "\n",
              "  .colab-df-spinner {\n",
              "    border: 2px solid var(--fill-color);\n",
              "    border-color: transparent;\n",
              "    border-bottom-color: var(--fill-color);\n",
              "    animation:\n",
              "      spin 1s steps(1) infinite;\n",
              "  }\n",
              "\n",
              "  @keyframes spin {\n",
              "    0% {\n",
              "      border-color: transparent;\n",
              "      border-bottom-color: var(--fill-color);\n",
              "      border-left-color: var(--fill-color);\n",
              "    }\n",
              "    20% {\n",
              "      border-color: transparent;\n",
              "      border-left-color: var(--fill-color);\n",
              "      border-top-color: var(--fill-color);\n",
              "    }\n",
              "    30% {\n",
              "      border-color: transparent;\n",
              "      border-left-color: var(--fill-color);\n",
              "      border-top-color: var(--fill-color);\n",
              "      border-right-color: var(--fill-color);\n",
              "    }\n",
              "    40% {\n",
              "      border-color: transparent;\n",
              "      border-right-color: var(--fill-color);\n",
              "      border-top-color: var(--fill-color);\n",
              "    }\n",
              "    60% {\n",
              "      border-color: transparent;\n",
              "      border-right-color: var(--fill-color);\n",
              "    }\n",
              "    80% {\n",
              "      border-color: transparent;\n",
              "      border-right-color: var(--fill-color);\n",
              "      border-bottom-color: var(--fill-color);\n",
              "    }\n",
              "    90% {\n",
              "      border-color: transparent;\n",
              "      border-bottom-color: var(--fill-color);\n",
              "    }\n",
              "  }\n",
              "</style>\n",
              "\n",
              "  <script>\n",
              "    async function quickchart(key) {\n",
              "      const quickchartButtonEl =\n",
              "        document.querySelector('#' + key + ' button');\n",
              "      quickchartButtonEl.disabled = true;  // To prevent multiple clicks.\n",
              "      quickchartButtonEl.classList.add('colab-df-spinner');\n",
              "      try {\n",
              "        const charts = await google.colab.kernel.invokeFunction(\n",
              "            'suggestCharts', [key], {});\n",
              "      } catch (error) {\n",
              "        console.error('Error during call to suggestCharts:', error);\n",
              "      }\n",
              "      quickchartButtonEl.classList.remove('colab-df-spinner');\n",
              "      quickchartButtonEl.classList.add('colab-df-quickchart-complete');\n",
              "    }\n",
              "    (() => {\n",
              "      let quickchartButtonEl =\n",
              "        document.querySelector('#df-7301b567-ee97-4b05-aeeb-7e9ad9707769 button');\n",
              "      quickchartButtonEl.style.display =\n",
              "        google.colab.kernel.accessAllowed ? 'block' : 'none';\n",
              "    })();\n",
              "  </script>\n",
              "</div>\n",
              "\n",
              "    </div>\n",
              "  </div>\n"
            ],
            "application/vnd.google.colaboratory.intrinsic+json": {
              "type": "dataframe",
              "variable_name": "tweets",
              "summary": "{\n  \"name\": \"tweets\",\n  \"rows\": 14639,\n  \"fields\": [\n    {\n      \"column\": \"airline_sentiment\",\n      \"properties\": {\n        \"dtype\": \"category\",\n        \"num_unique_values\": 3,\n        \"samples\": [\n          \"neutral\",\n          \"positive\",\n          \"negative\"\n        ],\n        \"semantic_type\": \"\",\n        \"description\": \"\"\n      }\n    },\n    {\n      \"column\": \"sentiment_confidence\",\n      \"properties\": {\n        \"dtype\": \"number\",\n        \"std\": 0.16283343013832569,\n        \"min\": 0.335,\n        \"max\": 1.0,\n        \"num_unique_values\": 1023,\n        \"samples\": [\n          0.6723,\n          0.3551,\n          0.6498\n        ],\n        \"semantic_type\": \"\",\n        \"description\": \"\"\n      }\n    },\n    {\n      \"column\": \"text\",\n      \"properties\": {\n        \"dtype\": \"string\",\n        \"num_unique_values\": 14426,\n        \"samples\": [\n          \"@JetBlue okay awesome! Thank you!\",\n          \"@united why? So I can waste more of time on this airline to get an automated message? Disappointing as always.\",\n          \"@SouthwestAir I consider myself a loyal customer to the brand but I'm astounded at the lack of concern about customer's flying experiences.\"\n        ],\n        \"semantic_type\": \"\",\n        \"description\": \"\"\n      }\n    }\n  ]\n}"
            }
          },
          "metadata": {},
          "execution_count": 122
        }
      ],
      "source": [
        "tweets = pd.read_csv(\"../content/drive/MyDrive/data/Tweets.csv\")\n",
        "tweets.head()"
      ]
    },
    {
      "cell_type": "code",
      "execution_count": null,
      "metadata": {
        "id": "qyGyHQsC362i",
        "outputId": "fbb26868-4fa6-42f1-ea17-876ad2ac9335"
      },
      "outputs": [
        {
          "data": {
            "text/plain": [
              "(14639, 3)"
            ]
          },
          "execution_count": 7,
          "metadata": {},
          "output_type": "execute_result"
        }
      ],
      "source": [
        "tweets.shape"
      ]
    },
    {
      "cell_type": "code",
      "execution_count": null,
      "metadata": {
        "id": "acpPJoGh362j",
        "outputId": "2586d886-14a2-4a4d-99a1-0e2e7316a59e"
      },
      "outputs": [
        {
          "data": {
            "text/plain": [
              "\"@VirginAmerica plus you've added commercials to the experience... tacky.\""
            ]
          },
          "execution_count": 8,
          "metadata": {},
          "output_type": "execute_result"
        }
      ],
      "source": [
        "tweets[\"text\"][1]"
      ]
    },
    {
      "cell_type": "markdown",
      "metadata": {
        "id": "muBFVfgi362j"
      },
      "source": [
        "### Code starts here"
      ]
    },
    {
      "cell_type": "markdown",
      "source": [
        "## Data Exploration"
      ],
      "metadata": {
        "id": "nTi3zevJ6x_o"
      }
    },
    {
      "cell_type": "markdown",
      "source": [
        "### NA Check"
      ],
      "metadata": {
        "id": "0MiFzITa65rI"
      }
    },
    {
      "cell_type": "code",
      "source": [
        "tweets.isnull().sum()"
      ],
      "metadata": {
        "colab": {
          "base_uri": "https://localhost:8080/",
          "height": 210
        },
        "id": "0Fnm0vJ967eK",
        "outputId": "7b7d3e97-d6ca-4a2f-bfea-358874161998"
      },
      "execution_count": 74,
      "outputs": [
        {
          "output_type": "execute_result",
          "data": {
            "text/plain": [
              "airline_sentiment       0\n",
              "sentiment_confidence    0\n",
              "text                    0\n",
              "processed_text          0\n",
              "dtype: int64"
            ],
            "text/html": [
              "<div>\n",
              "<style scoped>\n",
              "    .dataframe tbody tr th:only-of-type {\n",
              "        vertical-align: middle;\n",
              "    }\n",
              "\n",
              "    .dataframe tbody tr th {\n",
              "        vertical-align: top;\n",
              "    }\n",
              "\n",
              "    .dataframe thead th {\n",
              "        text-align: right;\n",
              "    }\n",
              "</style>\n",
              "<table border=\"1\" class=\"dataframe\">\n",
              "  <thead>\n",
              "    <tr style=\"text-align: right;\">\n",
              "      <th></th>\n",
              "      <th>0</th>\n",
              "    </tr>\n",
              "  </thead>\n",
              "  <tbody>\n",
              "    <tr>\n",
              "      <th>airline_sentiment</th>\n",
              "      <td>0</td>\n",
              "    </tr>\n",
              "    <tr>\n",
              "      <th>sentiment_confidence</th>\n",
              "      <td>0</td>\n",
              "    </tr>\n",
              "    <tr>\n",
              "      <th>text</th>\n",
              "      <td>0</td>\n",
              "    </tr>\n",
              "    <tr>\n",
              "      <th>processed_text</th>\n",
              "      <td>0</td>\n",
              "    </tr>\n",
              "  </tbody>\n",
              "</table>\n",
              "</div><br><label><b>dtype:</b> int64</label>"
            ]
          },
          "metadata": {},
          "execution_count": 74
        }
      ]
    },
    {
      "cell_type": "markdown",
      "source": [
        "### Sentiment Distribution"
      ],
      "metadata": {
        "id": "P_0pSR9m7JHc"
      }
    },
    {
      "cell_type": "code",
      "source": [
        "plt.figure(figsize=(8, 6))\n",
        "sns.countplot(x='airline_sentiment', data=tweets)\n",
        "plt.title('Sentiment Distribution')\n",
        "plt.show()"
      ],
      "metadata": {
        "colab": {
          "base_uri": "https://localhost:8080/",
          "height": 564
        },
        "id": "kKsJl3CL7NKB",
        "outputId": "f1ba093c-4805-48d1-fef3-d282a6f48d64"
      },
      "execution_count": 7,
      "outputs": [
        {
          "output_type": "display_data",
          "data": {
            "text/plain": [
              "<Figure size 800x600 with 1 Axes>"
            ],
            "image/png": "[encoded data removed]"
          },
          "metadata": {}
        }
      ]
    },
    {
      "cell_type": "markdown",
      "source": [
        "Highly imbalanced. There are many more texts with negative sentiments"
      ],
      "metadata": {
        "id": "rQ_drQdJ7TV_"
      }
    },
    {
      "cell_type": "markdown",
      "source": [
        "### Char/Word Count Analysis"
      ],
      "metadata": {
        "id": "5fNcw0bg7oYd"
      }
    },
    {
      "cell_type": "code",
      "source": [
        "# Add text length features\n",
        "tweets['char_length'] = tweets['text'].apply(len)\n",
        "tweets['word_count'] = tweets['text'].apply(lambda x: len(str(x).split()))\n",
        "\n",
        "# Calculate average lengths by sentiment\n",
        "avg_lengths = tweets.groupby('airline_sentiment')['char_length'].mean().sort_values(ascending = False)\n",
        "avg_word_counts = tweets.groupby('airline_sentiment')['word_count'].mean().sort_values(ascending = False)\n",
        "\n",
        "# Subplots\n",
        "fig, (ax1, ax2) = plt.subplots(1, 2, figsize = (16, 6))\n",
        "\n",
        "# Plot average text length\n",
        "ax1.bar(avg_lengths.index, avg_lengths.values)\n",
        "ax1.set_title('Average Char Length by Sentiment', fontsize=16)\n",
        "ax1.set_xlabel('Sentiment', fontsize=14)\n",
        "ax1.set_ylabel('Average Characters', fontsize=14)\n",
        "\n",
        "for i, value in enumerate(avg_lengths.values):\n",
        "  ax1.text(i, value + 1, f'{value:.1f}', ha='center', fontsize=12)\n",
        "\n",
        "# Plot average word count\n",
        "ax2.bar(avg_word_counts.index, avg_word_counts.values)\n",
        "ax2.set_title('Average Word Count by Sentiment', fontsize=16)\n",
        "ax2.set_xlabel('Sentiment', fontsize=14)\n",
        "ax2.set_ylabel('Average Words', fontsize=14)\n",
        "\n",
        "for i, value in enumerate(avg_word_counts.values):\n",
        "  ax2.text(i, value + 0.3, f'{value:.1f}', ha='center', fontsize=12)\n",
        "\n",
        "plt.show()"
      ],
      "metadata": {
        "colab": {
          "base_uri": "https://localhost:8080/",
          "height": 571
        },
        "id": "Uf3HAL7V7r60",
        "outputId": "bd042a73-5ed7-4282-a289-7816378524e0"
      },
      "execution_count": 10,
      "outputs": [
        {
          "output_type": "display_data",
          "data": {
            "text/plain": [
              "<Figure size 1600x600 with 2 Axes>"
            ],
            "image/png": "[encoded data removed]"
          },
          "metadata": {}
        }
      ]
    },
    {
      "cell_type": "markdown",
      "source": [
        "Negative tweets are longer than positive or neutral tweets on average"
      ],
      "metadata": {
        "id": "OMFU4V9O8V5p"
      }
    },
    {
      "cell_type": "markdown",
      "source": [
        "### Common Word Analysis"
      ],
      "metadata": {
        "id": "MFlPZXM_GTqD"
      }
    },
    {
      "cell_type": "markdown",
      "metadata": {
        "id": "1SvAAGwB362j"
      },
      "source": [
        "## Data Cleaning"
      ]
    },
    {
      "cell_type": "code",
      "execution_count": 123,
      "metadata": {
        "id": "nblAzSzO362j"
      },
      "outputs": [],
      "source": [
        "def at_filter(text):\n",
        "    return re.sub(r\"@\\w+\", \"\", text)\n",
        "\n",
        "def remove_urls(text):\n",
        "    return re.sub(r'http\\S+', '', text)\n",
        "\n",
        "def remove_amp(text):\n",
        "    return re.sub(r'&\\w+;', '', text)\n",
        "\n",
        "#Only include alphabets but include ! ?\n",
        "def alpha_filter(text):\n",
        "    return re.sub(r'[^a-zA-Z!?# ]', '', text)\n",
        "\n",
        "def lower_case(text):\n",
        "    return text.lower()\n"
      ]
    },
    {
      "cell_type": "code",
      "execution_count": 124,
      "metadata": {
        "id": "oVAkG6So362j"
      },
      "outputs": [],
      "source": [
        "tweets[\"text\"] = tweets[\"text\"].apply(lambda x: at_filter(x))\n",
        "tweets[\"text\"] = tweets[\"text\"].apply(lambda x: remove_amp(x))\n",
        "tweets[\"text\"] = tweets[\"text\"].apply(lambda x: remove_urls(x))\n",
        "tweets[\"text\"] = tweets[\"text\"].apply(lambda x: alpha_filter(x))\n",
        "tweets[\"text\"] = tweets[\"text\"].apply(lambda x: lower_case(x))"
      ]
    },
    {
      "cell_type": "code",
      "execution_count": 60,
      "metadata": {
        "colab": {
          "base_uri": "https://localhost:8080/",
          "height": 424
        },
        "id": "jaJInBur362j",
        "outputId": "678225a9-8e01-4fb1-ada7-7df35420d4f6"
      },
      "outputs": [
        {
          "output_type": "execute_result",
          "data": {
            "text/plain": [
              "      airline_sentiment  sentiment_confidence  \\\n",
              "0               neutral                1.0000   \n",
              "1              positive                0.3486   \n",
              "2               neutral                0.6837   \n",
              "3              negative                1.0000   \n",
              "4              negative                1.0000   \n",
              "...                 ...                   ...   \n",
              "14634          positive                0.3487   \n",
              "14635          negative                1.0000   \n",
              "14636           neutral                1.0000   \n",
              "14637          negative                1.0000   \n",
              "14638           neutral                0.6771   \n",
              "\n",
              "                                                    text  \n",
              "0                                              what said  \n",
              "1                plus added commercials experience tacky  \n",
              "2            i today must mean i need take another trip!  \n",
              "3      really aggressive blast obnoxious entertainmen...  \n",
              "4                                   really big bad thing  \n",
              "...                                                  ...  \n",
              "14634                 thank got different flight chicago  \n",
              "14635  leaving  minutes late flight no warnings commu...  \n",
              "14636          please bring american airlines blackberry  \n",
              "14637  money change flight answer phones! any suggest...  \n",
              "14638   ppl need  know many seats next flight plz put...  \n",
              "\n",
              "[14639 rows x 3 columns]"
            ],
            "text/html": [
              "\n",
              "  <div id=\"df-9efcdc41-e455-4d0a-8b77-f2ede362172b\" class=\"colab-df-container\">\n",
              "    <div>\n",
              "<style scoped>\n",
              "    .dataframe tbody tr th:only-of-type {\n",
              "        vertical-align: middle;\n",
              "    }\n",
              "\n",
              "    .dataframe tbody tr th {\n",
              "        vertical-align: top;\n",
              "    }\n",
              "\n",
              "    .dataframe thead th {\n",
              "        text-align: right;\n",
              "    }\n",
              "</style>\n",
              "<table border=\"1\" class=\"dataframe\">\n",
              "  <thead>\n",
              "    <tr style=\"text-align: right;\">\n",
              "      <th></th>\n",
              "      <th>airline_sentiment</th>\n",
              "      <th>sentiment_confidence</th>\n",
              "      <th>text</th>\n",
              "    </tr>\n",
              "  </thead>\n",
              "  <tbody>\n",
              "    <tr>\n",
              "      <th>0</th>\n",
              "      <td>neutral</td>\n",
              "      <td>1.0000</td>\n",
              "      <td>what said</td>\n",
              "    </tr>\n",
              "    <tr>\n",
              "      <th>1</th>\n",
              "      <td>positive</td>\n",
              "      <td>0.3486</td>\n",
              "      <td>plus added commercials experience tacky</td>\n",
              "    </tr>\n",
              "    <tr>\n",
              "      <th>2</th>\n",
              "      <td>neutral</td>\n",
              "      <td>0.6837</td>\n",
              "      <td>i today must mean i need take another trip!</td>\n",
              "    </tr>\n",
              "    <tr>\n",
              "      <th>3</th>\n",
              "      <td>negative</td>\n",
              "      <td>1.0000</td>\n",
              "      <td>really aggressive blast obnoxious entertainmen...</td>\n",
              "    </tr>\n",
              "    <tr>\n",
              "      <th>4</th>\n",
              "      <td>negative</td>\n",
              "      <td>1.0000</td>\n",
              "      <td>really big bad thing</td>\n",
              "    </tr>\n",
              "    <tr>\n",
              "      <th>...</th>\n",
              "      <td>...</td>\n",
              "      <td>...</td>\n",
              "      <td>...</td>\n",
              "    </tr>\n",
              "    <tr>\n",
              "      <th>14634</th>\n",
              "      <td>positive</td>\n",
              "      <td>0.3487</td>\n",
              "      <td>thank got different flight chicago</td>\n",
              "    </tr>\n",
              "    <tr>\n",
              "      <th>14635</th>\n",
              "      <td>negative</td>\n",
              "      <td>1.0000</td>\n",
              "      <td>leaving  minutes late flight no warnings commu...</td>\n",
              "    </tr>\n",
              "    <tr>\n",
              "      <th>14636</th>\n",
              "      <td>neutral</td>\n",
              "      <td>1.0000</td>\n",
              "      <td>please bring american airlines blackberry</td>\n",
              "    </tr>\n",
              "    <tr>\n",
              "      <th>14637</th>\n",
              "      <td>negative</td>\n",
              "      <td>1.0000</td>\n",
              "      <td>money change flight answer phones! any suggest...</td>\n",
              "    </tr>\n",
              "    <tr>\n",
              "      <th>14638</th>\n",
              "      <td>neutral</td>\n",
              "      <td>0.6771</td>\n",
              "      <td>ppl need  know many seats next flight plz put...</td>\n",
              "    </tr>\n",
              "  </tbody>\n",
              "</table>\n",
              "<p>14639 rows × 3 columns</p>\n",
              "</div>\n",
              "    <div class=\"colab-df-buttons\">\n",
              "\n",
              "  <div class=\"colab-df-container\">\n",
              "    <button class=\"colab-df-convert\" onclick=\"convertToInteractive('df-9efcdc41-e455-4d0a-8b77-f2ede362172b')\"\n",
              "            title=\"Convert this dataframe to an interactive table.\"\n",
              "            style=\"display:none;\">\n",
              "\n",
              "  <svg xmlns=\"http://www.w3.org/2000/svg\" height=\"24px\" viewBox=\"0 -960 960 960\">\n",
              "    <path d=\"M120-120v-720h720v720H120Zm60-500h600v-160H180v160Zm220 220h160v-160H400v160Zm0 220h160v-160H400v160ZM180-400h160v-160H180v160Zm440 0h160v-160H620v160ZM180-180h160v-160H180v160Zm440 0h160v-160H620v160Z\"/>\n",
              "  </svg>\n",
              "    </button>\n",
              "\n",
              "  <style>\n",
              "    .colab-df-container {\n",
              "      display:flex;\n",
              "      gap: 12px;\n",
              "    }\n",
              "\n",
              "    .colab-df-convert {\n",
              "      background-color: #E8F0FE;\n",
              "      border: none;\n",
              "      border-radius: 50%;\n",
              "      cursor: pointer;\n",
              "      display: none;\n",
              "      fill: #1967D2;\n",
              "      height: 32px;\n",
              "      padding: 0 0 0 0;\n",
              "      width: 32px;\n",
              "    }\n",
              "\n",
              "    .colab-df-convert:hover {\n",
              "      background-color: #E2EBFA;\n",
              "      box-shadow: 0px 1px 2px rgba(60, 64, 67, 0.3), 0px 1px 3px 1px rgba(60, 64, 67, 0.15);\n",
              "      fill: #174EA6;\n",
              "    }\n",
              "\n",
              "    .colab-df-buttons div {\n",
              "      margin-bottom: 4px;\n",
              "    }\n",
              "\n",
              "    [theme=dark] .colab-df-convert {\n",
              "      background-color: #3B4455;\n",
              "      fill: #D2E3FC;\n",
              "    }\n",
              "\n",
              "    [theme=dark] .colab-df-convert:hover {\n",
              "      background-color: #434B5C;\n",
              "      box-shadow: 0px 1px 3px 1px rgba(0, 0, 0, 0.15);\n",
              "      filter: drop-shadow(0px 1px 2px rgba(0, 0, 0, 0.3));\n",
              "      fill: #FFFFFF;\n",
              "    }\n",
              "  </style>\n",
              "\n",
              "    <script>\n",
              "      const buttonEl =\n",
              "        document.querySelector('#df-9efcdc41-e455-4d0a-8b77-f2ede362172b button.colab-df-convert');\n",
              "      buttonEl.style.display =\n",
              "        google.colab.kernel.accessAllowed ? 'block' : 'none';\n",
              "\n",
              "      async function convertToInteractive(key) {\n",
              "        const element = document.querySelector('#df-9efcdc41-e455-4d0a-8b77-f2ede362172b');\n",
              "        const dataTable =\n",
              "          await google.colab.kernel.invokeFunction('convertToInteractive',\n",
              "                                                    [key], {});\n",
              "        if (!dataTable) return;\n",
              "\n",
              "        const docLinkHtml = 'Like what you see? Visit the ' +\n",
              "          '<a target=\"_blank\" href=https://colab.research.google.com/notebooks/data_table.ipynb>data table notebook</a>'\n",
              "          + ' to learn more about interactive tables.';\n",
              "        element.innerHTML = '';\n",
              "        dataTable['output_type'] = 'display_data';\n",
              "        await google.colab.output.renderOutput(dataTable, element);\n",
              "        const docLink = document.createElement('div');\n",
              "        docLink.innerHTML = docLinkHtml;\n",
              "        element.appendChild(docLink);\n",
              "      }\n",
              "    </script>\n",
              "  </div>\n",
              "\n",
              "\n",
              "<div id=\"df-f8a45bd9-5bcd-4c37-a886-b01c321460b5\">\n",
              "  <button class=\"colab-df-quickchart\" onclick=\"quickchart('df-f8a45bd9-5bcd-4c37-a886-b01c321460b5')\"\n",
              "            title=\"Suggest charts\"\n",
              "            style=\"display:none;\">\n",
              "\n",
              "<svg xmlns=\"http://www.w3.org/2000/svg\" height=\"24px\"viewBox=\"0 0 24 24\"\n",
              "     width=\"24px\">\n",
              "    <g>\n",
              "        <path d=\"M19 3H5c-1.1 0-2 .9-2 2v14c0 1.1.9 2 2 2h14c1.1 0 2-.9 2-2V5c0-1.1-.9-2-2-2zM9 17H7v-7h2v7zm4 0h-2V7h2v10zm4 0h-2v-4h2v4z\"/>\n",
              "    </g>\n",
              "</svg>\n",
              "  </button>\n",
              "\n",
              "<style>\n",
              "  .colab-df-quickchart {\n",
              "      --bg-color: #E8F0FE;\n",
              "      --fill-color: #1967D2;\n",
              "      --hover-bg-color: #E2EBFA;\n",
              "      --hover-fill-color: #174EA6;\n",
              "      --disabled-fill-color: #AAA;\n",
              "      --disabled-bg-color: #DDD;\n",
              "  }\n",
              "\n",
              "  [theme=dark] .colab-df-quickchart {\n",
              "      --bg-color: #3B4455;\n",
              "      --fill-color: #D2E3FC;\n",
              "      --hover-bg-color: #434B5C;\n",
              "      --hover-fill-color: #FFFFFF;\n",
              "      --disabled-bg-color: #3B4455;\n",
              "      --disabled-fill-color: #666;\n",
              "  }\n",
              "\n",
              "  .colab-df-quickchart {\n",
              "    background-color: var(--bg-color);\n",
              "    border: none;\n",
              "    border-radius: 50%;\n",
              "    cursor: pointer;\n",
              "    display: none;\n",
              "    fill: var(--fill-color);\n",
              "    height: 32px;\n",
              "    padding: 0;\n",
              "    width: 32px;\n",
              "  }\n",
              "\n",
              "  .colab-df-quickchart:hover {\n",
              "    background-color: var(--hover-bg-color);\n",
              "    box-shadow: 0 1px 2px rgba(60, 64, 67, 0.3), 0 1px 3px 1px rgba(60, 64, 67, 0.15);\n",
              "    fill: var(--button-hover-fill-color);\n",
              "  }\n",
              "\n",
              "  .colab-df-quickchart-complete:disabled,\n",
              "  .colab-df-quickchart-complete:disabled:hover {\n",
              "    background-color: var(--disabled-bg-color);\n",
              "    fill: var(--disabled-fill-color);\n",
              "    box-shadow: none;\n",
              "  }\n",
              "\n",
              "  .colab-df-spinner {\n",
              "    border: 2px solid var(--fill-color);\n",
              "    border-color: transparent;\n",
              "    border-bottom-color: var(--fill-color);\n",
              "    animation:\n",
              "      spin 1s steps(1) infinite;\n",
              "  }\n",
              "\n",
              "  @keyframes spin {\n",
              "    0% {\n",
              "      border-color: transparent;\n",
              "      border-bottom-color: var(--fill-color);\n",
              "      border-left-color: var(--fill-color);\n",
              "    }\n",
              "    20% {\n",
              "      border-color: transparent;\n",
              "      border-left-color: var(--fill-color);\n",
              "      border-top-color: var(--fill-color);\n",
              "    }\n",
              "    30% {\n",
              "      border-color: transparent;\n",
              "      border-left-color: var(--fill-color);\n",
              "      border-top-color: var(--fill-color);\n",
              "      border-right-color: var(--fill-color);\n",
              "    }\n",
              "    40% {\n",
              "      border-color: transparent;\n",
              "      border-right-color: var(--fill-color);\n",
              "      border-top-color: var(--fill-color);\n",
              "    }\n",
              "    60% {\n",
              "      border-color: transparent;\n",
              "      border-right-color: var(--fill-color);\n",
              "    }\n",
              "    80% {\n",
              "      border-color: transparent;\n",
              "      border-right-color: var(--fill-color);\n",
              "      border-bottom-color: var(--fill-color);\n",
              "    }\n",
              "    90% {\n",
              "      border-color: transparent;\n",
              "      border-bottom-color: var(--fill-color);\n",
              "    }\n",
              "  }\n",
              "</style>\n",
              "\n",
              "  <script>\n",
              "    async function quickchart(key) {\n",
              "      const quickchartButtonEl =\n",
              "        document.querySelector('#' + key + ' button');\n",
              "      quickchartButtonEl.disabled = true;  // To prevent multiple clicks.\n",
              "      quickchartButtonEl.classList.add('colab-df-spinner');\n",
              "      try {\n",
              "        const charts = await google.colab.kernel.invokeFunction(\n",
              "            'suggestCharts', [key], {});\n",
              "      } catch (error) {\n",
              "        console.error('Error during call to suggestCharts:', error);\n",
              "      }\n",
              "      quickchartButtonEl.classList.remove('colab-df-spinner');\n",
              "      quickchartButtonEl.classList.add('colab-df-quickchart-complete');\n",
              "    }\n",
              "    (() => {\n",
              "      let quickchartButtonEl =\n",
              "        document.querySelector('#df-f8a45bd9-5bcd-4c37-a886-b01c321460b5 button');\n",
              "      quickchartButtonEl.style.display =\n",
              "        google.colab.kernel.accessAllowed ? 'block' : 'none';\n",
              "    })();\n",
              "  </script>\n",
              "</div>\n",
              "\n",
              "  <div id=\"id_715d94a3-68a4-416b-ae50-65728123b6e3\">\n",
              "    <style>\n",
              "      .colab-df-generate {\n",
              "        background-color: #E8F0FE;\n",
              "        border: none;\n",
              "        border-radius: 50%;\n",
              "        cursor: pointer;\n",
              "        display: none;\n",
              "        fill: #1967D2;\n",
              "        height: 32px;\n",
              "        padding: 0 0 0 0;\n",
              "        width: 32px;\n",
              "      }\n",
              "\n",
              "      .colab-df-generate:hover {\n",
              "        background-color: #E2EBFA;\n",
              "        box-shadow: 0px 1px 2px rgba(60, 64, 67, 0.3), 0px 1px 3px 1px rgba(60, 64, 67, 0.15);\n",
              "        fill: #174EA6;\n",
              "      }\n",
              "\n",
              "      [theme=dark] .colab-df-generate {\n",
              "        background-color: #3B4455;\n",
              "        fill: #D2E3FC;\n",
              "      }\n",
              "\n",
              "      [theme=dark] .colab-df-generate:hover {\n",
              "        background-color: #434B5C;\n",
              "        box-shadow: 0px 1px 3px 1px rgba(0, 0, 0, 0.15);\n",
              "        filter: drop-shadow(0px 1px 2px rgba(0, 0, 0, 0.3));\n",
              "        fill: #FFFFFF;\n",
              "      }\n",
              "    </style>\n",
              "    <button class=\"colab-df-generate\" onclick=\"generateWithVariable('tweets')\"\n",
              "            title=\"Generate code using this dataframe.\"\n",
              "            style=\"display:none;\">\n",
              "\n",
              "  <svg xmlns=\"http://www.w3.org/2000/svg\" height=\"24px\"viewBox=\"0 0 24 24\"\n",
              "       width=\"24px\">\n",
              "    <path d=\"M7,19H8.4L18.45,9,17,7.55,7,17.6ZM5,21V16.75L18.45,3.32a2,2,0,0,1,2.83,0l1.4,1.43a1.91,1.91,0,0,1,.58,1.4,1.91,1.91,0,0,1-.58,1.4L9.25,21ZM18.45,9,17,7.55Zm-12,3A5.31,5.31,0,0,0,4.9,8.1,5.31,5.31,0,0,0,1,6.5,5.31,5.31,0,0,0,4.9,4.9,5.31,5.31,0,0,0,6.5,1,5.31,5.31,0,0,0,8.1,4.9,5.31,5.31,0,0,0,12,6.5,5.46,5.46,0,0,0,6.5,12Z\"/>\n",
              "  </svg>\n",
              "    </button>\n",
              "    <script>\n",
              "      (() => {\n",
              "      const buttonEl =\n",
              "        document.querySelector('#id_715d94a3-68a4-416b-ae50-65728123b6e3 button.colab-df-generate');\n",
              "      buttonEl.style.display =\n",
              "        google.colab.kernel.accessAllowed ? 'block' : 'none';\n",
              "\n",
              "      buttonEl.onclick = () => {\n",
              "        google.colab.notebook.generateWithVariable('tweets');\n",
              "      }\n",
              "      })();\n",
              "    </script>\n",
              "  </div>\n",
              "\n",
              "    </div>\n",
              "  </div>\n"
            ],
            "application/vnd.google.colaboratory.intrinsic+json": {
              "type": "dataframe",
              "variable_name": "tweets",
              "summary": "{\n  \"name\": \"tweets\",\n  \"rows\": 14639,\n  \"fields\": [\n    {\n      \"column\": \"airline_sentiment\",\n      \"properties\": {\n        \"dtype\": \"category\",\n        \"num_unique_values\": 3,\n        \"samples\": [\n          \"neutral\",\n          \"positive\",\n          \"negative\"\n        ],\n        \"semantic_type\": \"\",\n        \"description\": \"\"\n      }\n    },\n    {\n      \"column\": \"sentiment_confidence\",\n      \"properties\": {\n        \"dtype\": \"number\",\n        \"std\": 0.16283343013832569,\n        \"min\": 0.335,\n        \"max\": 1.0,\n        \"num_unique_values\": 1023,\n        \"samples\": [\n          0.6723,\n          0.3551,\n          0.6498\n        ],\n        \"semantic_type\": \"\",\n        \"description\": \"\"\n      }\n    },\n    {\n      \"column\": \"text\",\n      \"properties\": {\n        \"dtype\": \"string\",\n        \"num_unique_values\": 14208,\n        \"samples\": [\n          \"i emails way\",\n          \"but i got bad exchange rate want money back please refund without penalty\",\n          \"i thank customer service team response cancelled flightled flight offering cont\"\n        ],\n        \"semantic_type\": \"\",\n        \"description\": \"\"\n      }\n    }\n  ]\n}"
            }
          },
          "metadata": {},
          "execution_count": 60
        }
      ],
      "source": [
        "tweets"
      ]
    },
    {
      "cell_type": "code",
      "execution_count": 15,
      "metadata": {
        "id": "fP-ZCl4L362j"
      },
      "outputs": [],
      "source": [
        "tweets.to_csv(\"../content/sample_data/CleanTweets.csv\")"
      ]
    },
    {
      "cell_type": "markdown",
      "metadata": {
        "id": "OPuv0rUj362j"
      },
      "source": [
        "## Data transformation"
      ]
    },
    {
      "cell_type": "markdown",
      "metadata": {
        "id": "XHJE9xoP362j"
      },
      "source": [
        "#### Map Tweets into Vectors in R^n"
      ]
    },
    {
      "cell_type": "code",
      "execution_count": 80,
      "metadata": {
        "id": "rkxulj6W362j"
      },
      "outputs": [],
      "source": [
        "sentence_vectors = tweets[\"text\"].apply(lambda x: bert_encode(x))\n",
        "data = np.array(list(map(lambda x: x[0], sentence_vectors)))"
      ]
    },
    {
      "cell_type": "markdown",
      "metadata": {
        "id": "kAqmtJmR362j"
      },
      "source": [
        "#### Store Data as a CSV so don't need to re-encode every time"
      ]
    },
    {
      "cell_type": "code",
      "execution_count": 82,
      "metadata": {
        "id": "Y72muKH8362k"
      },
      "outputs": [],
      "source": [
        "data_frame = pd.DataFrame(data)\n",
        "data_frame.to_parquet(\"/content/drive/MyDrive/data/TWITTERBERT_Vectors1.parquet\")"
      ]
    },
    {
      "cell_type": "code",
      "execution_count": null,
      "metadata": {
        "id": "ZKvPncKt362k"
      },
      "outputs": [],
      "source": [
        "#pq.write_table(table, \"../Data/Cleaned/BERT_Vectors.oarquet\")"
      ]
    },
    {
      "cell_type": "markdown",
      "metadata": {
        "id": "wHyGl4RX362k"
      },
      "source": [
        "#### BERT Encodings can be found in data below"
      ]
    },
    {
      "cell_type": "code",
      "execution_count": 24,
      "metadata": {
        "id": "-higldW3362k"
      },
      "outputs": [],
      "source": [
        "Bert_Encoded_Text = pd.read_parquet(\"../content/drive/MyDrive/data/BERT_Vectors.oarquet\")\n",
        "data = Bert_Encoded_Text.to_numpy()"
      ]
    },
    {
      "cell_type": "code",
      "execution_count": 25,
      "metadata": {
        "colab": {
          "base_uri": "https://localhost:8080/"
        },
        "id": "Uau_xjAy362k",
        "outputId": "fdde7698-0112-4acf-9bd1-e4cb3c45590c"
      },
      "outputs": [
        {
          "output_type": "execute_result",
          "data": {
            "text/plain": [
              "(14639, 768)"
            ]
          },
          "metadata": {},
          "execution_count": 25
        }
      ],
      "source": [
        "data.shape"
      ]
    },
    {
      "cell_type": "markdown",
      "metadata": {
        "id": "vI2LH9Hu362k"
      },
      "source": [
        "### K-means using personal implementation"
      ]
    },
    {
      "cell_type": "code",
      "execution_count": 83,
      "metadata": {
        "id": "q5qfj-nL362k"
      },
      "outputs": [],
      "source": [
        "def cos_distance(x1, x2):\n",
        "    '''\n",
        "    x1: numpy array, shape = [D]\n",
        "    x2: numpy array, shape = [D]\n",
        "    RETURN\n",
        "        dist: float value\n",
        "    '''\n",
        "    #dist = np.sqrt(np.dot(x1-x2,x1-x2))\n",
        "    x1_length = np.dot(x1, x1)\n",
        "    x2_length = np.dot(x2, x2)\n",
        "    cosine = np.dot(x1, x2)/(x1_length*x2_length)\n",
        "    dist = np.arccos(cosine)/np.arccos(-1)\n",
        "\n",
        "    ## end\n",
        "    return dist"
      ]
    },
    {
      "cell_type": "code",
      "execution_count": 84,
      "metadata": {
        "id": "eh-2xEfg362k"
      },
      "outputs": [],
      "source": [
        "def closestCentroid(input_vector, centroid_dict):\n",
        "    '''\n",
        "    coordinates_x: numpy array, shape = [D]\n",
        "    coordinates_centroid: dictionary, key = int, value = numpy array of shape [D]\n",
        "    RETURN\n",
        "        closest_centroid: int value\n",
        "    '''\n",
        "    closest_centroid = None\n",
        "\n",
        "    ## start your code here\n",
        "    smallest_dist = 10**10\n",
        "\n",
        "    for key in centroid_dict:\n",
        "        curr_centroid_vector = centroid_dict[key]\n",
        "        curr_centroid_vector = curr_centroid_vector.reshape(-1)\n",
        "        curr_dist = cos_distance(curr_centroid_vector, input_vector)\n",
        "\n",
        "        if (curr_dist < smallest_dist):\n",
        "            closest_centroid = key\n",
        "            smallest_dist = curr_dist\n",
        "\n",
        "    ## end\n",
        "    return closest_centroid"
      ]
    },
    {
      "cell_type": "markdown",
      "metadata": {
        "id": "2j3dXf__362k"
      },
      "source": [
        "When using arccos(cosine_similarity)/π as the distance metric, the standard arithmetic mean used in k-means won’t work correctly because it doesn’t preserve unit directionality.\n",
        "\n",
        "Instead, we need to compute the centroid in a way that maintains the directional nature of the embeddings.\n",
        "\n",
        "The best approach is to use the normalized mean vector."
      ]
    },
    {
      "cell_type": "code",
      "execution_count": 85,
      "metadata": {
        "id": "yT0Z-RZA362l"
      },
      "outputs": [],
      "source": [
        "def compute_new_centroid(cluster_vectors):\n",
        "    if len(cluster_vectors) == 0:\n",
        "        return None  # Handle empty clusters\n",
        "\n",
        "    cluster_vectors = [vec / np.linalg.norm(vec) for vec in cluster_vectors]\n",
        "\n",
        "    mean_vector = np.mean(cluster_vectors, axis=0).reshape(-1)  # Step 1: Compute the mean vector\n",
        "    norm = np.linalg.norm(mean_vector)  # Step 2: Compute its norm\n",
        "\n",
        "    if norm == 0:\n",
        "        return np.zeros_like(mean_vector)  # Edge case: if the norm is 0, return a zero vector\n",
        "\n",
        "    return mean_vector / norm  # Step 3: Normalize to get unit vector"
      ]
    },
    {
      "cell_type": "code",
      "execution_count": 86,
      "metadata": {
        "id": "wuTP1fvn362l"
      },
      "outputs": [],
      "source": [
        "def KMeansClustering(X, initial_centroids, k, n, tolerance=1e-20):\n",
        "    '''\n",
        "    X: numpy array, shape = [N, D]\n",
        "    index_centroids: list, shape = k\n",
        "    k: int value\n",
        "    n: int value\n",
        "    RETURN\n",
        "        repartition: dictionary, key = int, value = numpy array of shape [number of points in cluster, D]\n",
        "        coordinates: dictionary, key = int, value = numpy array of shape [D]\n",
        "    '''\n",
        "\n",
        "\n",
        "    repartition, centroids,  = None, dict()\n",
        "    ## start your code here\n",
        "    # Initialise your first centroids\n",
        "    for i in range(k):\n",
        "        centroids[i] = initial_centroids[i]\n",
        "\n",
        "    # Define stopping criterion\n",
        "    for i in range(n):\n",
        "        # Initialise new dictionaries for repartition and coordinates\n",
        "        repartition = dict()\n",
        "        for i in range(k):\n",
        "            repartition[i] = []\n",
        "\n",
        "        # Assign all the points to the closest cluster centroid\n",
        "        for vector in X:\n",
        "            repartition[closestCentroid(vector, centroids)].append(vector)\n",
        "\n",
        "\n",
        "        # Compute new centroids\n",
        "        new_centroids = {}\n",
        "        for cluster_key in repartition:\n",
        "            new_centroids[cluster_key] = compute_new_centroid(repartition[cluster_key])\n",
        "\n",
        "        # Check for early stopping (convergence)\n",
        "        centroid_changes = [np.linalg.norm(new_centroids[cluster_key] - centroids[cluster_key]) for cluster_key in centroids]\n",
        "        max_change = max(centroid_changes)\n",
        "\n",
        "        # If the max change in centroids is smaller than the tolerance, stop early\n",
        "        if max_change < tolerance:\n",
        "            print(f\"Converged early after {i+1} iterations.\")\n",
        "            return repartition, centroids\n",
        "\n",
        "        # Update centroids for the next iteration\n",
        "        centroids = new_centroids\n",
        "\n",
        "\n",
        "    ## end\n",
        "    return repartition, centroids"
      ]
    },
    {
      "cell_type": "markdown",
      "metadata": {
        "id": "3s0i-_mk362m"
      },
      "source": [
        "### K-Means using sklearn"
      ]
    },
    {
      "cell_type": "code",
      "execution_count": 87,
      "metadata": {
        "id": "IbacjbUV362m"
      },
      "outputs": [],
      "source": [
        "def sklearnKmeans(X, k, m):\n",
        "    '''\n",
        "    X: numpy array, shape = [N, D]\n",
        "    k: int value\n",
        "    m: int value\n",
        "    RETURN\n",
        "        position: numpy array, shape = [N]\n",
        "        centers: numpy array, shape = [k, D]\n",
        "    '''\n",
        "    position, centers = None, None\n",
        "    ## start your code here\n",
        "    kmeans = KMeans(n_clusters=k, init=\"random\", n_init=1, max_iter=m).fit(X)\n",
        "    position, centers = kmeans.predict(X), kmeans.cluster_centers_\n",
        "    ## end\n",
        "    return position, centers"
      ]
    },
    {
      "cell_type": "code",
      "execution_count": 88,
      "metadata": {
        "id": "RPUx2pqo362m"
      },
      "outputs": [],
      "source": [
        "def sklearnKmeans_plus(X, k, m):\n",
        "    '''\n",
        "    X: numpy array, shape = [N, D]\n",
        "    k: int value\n",
        "    m: int value\n",
        "    RETURN\n",
        "        position: numpy array, shape = [N]\n",
        "        centers: numpy array, shape = [k, D]\n",
        "    '''\n",
        "    position, centers = None, None\n",
        "    ## start your code here\n",
        "    kmeans = KMeans(n_clusters=k, init=\"k-means++\", n_init=1, max_iter=m).fit(X)\n",
        "    position, centers = kmeans.predict(X), kmeans.cluster_centers_\n",
        "    ## end\n",
        "    return position, centers"
      ]
    },
    {
      "cell_type": "markdown",
      "metadata": {
        "id": "U0ApTK8e362m"
      },
      "source": [
        "## Modelling the Data"
      ]
    },
    {
      "cell_type": "code",
      "execution_count": 89,
      "metadata": {
        "id": "RUSCUIGn362q"
      },
      "outputs": [],
      "source": [
        "def euclideanDist(x1, x2):\n",
        "    '''\n",
        "    x1: numpy array, shape = [D]\n",
        "    x2: numpy array, shape = [D]\n",
        "    RETURN\n",
        "        dist: float value\n",
        "    '''\n",
        "    dist = np.sqrt(np.dot(x1-x2,x1-x2))\n",
        "    ## start your code here\n",
        "\n",
        "\n",
        "    ## end\n",
        "    return dist"
      ]
    },
    {
      "cell_type": "code",
      "execution_count": 90,
      "metadata": {
        "id": "zeI4FxTw362q"
      },
      "outputs": [],
      "source": [
        "def closest_to_Centroid(clusters, centroids, distance):\n",
        "\n",
        "    cluster_representatives = dict()\n",
        "    for cluster in clusters.keys():\n",
        "        cluster_representatives[cluster] = []\n",
        "\n",
        "    for cluster in clusters.keys():\n",
        "        curr_centroid = centroids[cluster]\n",
        "        smallest_dist = 10**10\n",
        "        closest_datapoint = clusters[cluster][0]\n",
        "\n",
        "        for vector in clusters[cluster]:\n",
        "            curr_dist = distance(vector, curr_centroid)\n",
        "            if (curr_dist < smallest_dist):\n",
        "                closest_datapoint = vector\n",
        "                smallest_dist = curr_dist\n",
        "\n",
        "        cluster_representatives[cluster] = closest_datapoint\n",
        "\n",
        "    ## end\n",
        "\n",
        "    return cluster_representatives"
      ]
    },
    {
      "cell_type": "markdown",
      "metadata": {
        "id": "gIFnTl-m362q"
      },
      "source": [
        "### Initial attempt using SK-Learn Library"
      ]
    },
    {
      "cell_type": "code",
      "execution_count": 91,
      "metadata": {
        "id": "w67lGT3f362r"
      },
      "outputs": [],
      "source": [
        "position, centers = sklearnKmeans(data, 3, 10000)"
      ]
    },
    {
      "cell_type": "code",
      "execution_count": 92,
      "metadata": {
        "colab": {
          "base_uri": "https://localhost:8080/"
        },
        "id": "ZKFF0-5u362r",
        "outputId": "b0f16a6c-27da-47e3-9cca-610cbd67bedd"
      },
      "outputs": [
        {
          "output_type": "stream",
          "name": "stdout",
          "text": [
            "accuracy is 61.85%\n"
          ]
        }
      ],
      "source": [
        "clusters = {0:[], 1:[], 2:[]}\n",
        "N = len(position)\n",
        "\n",
        "for index in range(N):\n",
        "    clusters[position[index]].append(data[index])\n",
        "\n",
        "cluster_representatives = closest_to_Centroid(clusters, centers, euclideanDist)\n",
        "cluster_rep_indexes = [np.where(data == rep)[0][0] for rep in cluster_representatives.values()]\n",
        "\n",
        "# labelling the centroids to test accuracy\n",
        "possible_labels = [\"negative\", \"neutral\", \"positive\"]\n",
        "possible_clusters = [0, 1, 2]\n",
        "labels = dict()\n",
        "\n",
        "for cluster in possible_clusters:\n",
        "    labels[cluster] = list(tweets[\"airline_sentiment\"][cluster_rep_indexes])[cluster]\n",
        "\n",
        "predicted_sentiments = list(map(lambda x: labels[x], position))\n",
        "\n",
        "accuracy = np.mean(tweets[\"airline_sentiment\"] ==  predicted_sentiments)\n",
        "print(f\"accuracy is {np.round(accuracy*100, 2)}%\")"
      ]
    },
    {
      "cell_type": "markdown",
      "metadata": {
        "id": "DaHi6sVX362r"
      },
      "source": [
        "Accuracy achieved in First attempt is ≈ 39.70%"
      ]
    },
    {
      "cell_type": "markdown",
      "metadata": {
        "id": "7XcUxzc8362r"
      },
      "source": [
        "### Second attempt using SK-Learn Library (K-Means++)"
      ]
    },
    {
      "cell_type": "code",
      "execution_count": 93,
      "metadata": {
        "id": "YiOKKiCT362r"
      },
      "outputs": [],
      "source": [
        "position, centers = sklearnKmeans_plus(data, 3, 10000)"
      ]
    },
    {
      "cell_type": "code",
      "execution_count": 94,
      "metadata": {
        "colab": {
          "base_uri": "https://localhost:8080/"
        },
        "id": "cQTZZ9et362r",
        "outputId": "9d188382-429b-4dca-fc38-da72cc184c12"
      },
      "outputs": [
        {
          "output_type": "stream",
          "name": "stdout",
          "text": [
            "accuracy is 62.7%\n"
          ]
        }
      ],
      "source": [
        "clusters = {0:[], 1:[], 2:[]}\n",
        "N = len(position)\n",
        "\n",
        "for index in range(N):\n",
        "    clusters[position[index]].append(data[index])\n",
        "\n",
        "cluster_representatives = closest_to_Centroid(clusters, centers, euclideanDist)\n",
        "cluster_rep_indexes = [np.where(data == rep)[0][0] for rep in cluster_representatives.values()]\n",
        "\n",
        "# labelling the centroids to test accuracy\n",
        "possible_labels = [\"negative\", \"neutral\", \"positive\"]\n",
        "possible_clusters = [0, 1, 2]\n",
        "labels = dict()\n",
        "\n",
        "for cluster in possible_clusters:\n",
        "    labels[cluster] = list(tweets[\"airline_sentiment\"][cluster_rep_indexes])[cluster]\n",
        "\n",
        "predicted_sentiments = list(map(lambda x: labels[x], position))\n",
        "\n",
        "accuracy = np.mean(tweets[\"airline_sentiment\"] ==  predicted_sentiments)\n",
        "print(f\"accuracy is {np.round(accuracy*100, 2)}%\")"
      ]
    },
    {
      "cell_type": "markdown",
      "metadata": {
        "id": "xQuEB4N3362s"
      },
      "source": [
        "Accuracy achieved in Second attempt is ≈ 40.08%"
      ]
    },
    {
      "cell_type": "markdown",
      "metadata": {
        "id": "GGm2MvIx362s"
      },
      "source": [
        "### Third Attempt using own K-Means Clustering algorithm"
      ]
    },
    {
      "cell_type": "code",
      "execution_count": 95,
      "metadata": {
        "colab": {
          "base_uri": "https://localhost:8080/"
        },
        "id": "cQBLx3qs362s",
        "outputId": "a1d309c1-49de-4978-e738-27cbd6ef8aac"
      },
      "outputs": [
        {
          "output_type": "stream",
          "name": "stdout",
          "text": [
            "Converged early after 3 iterations.\n"
          ]
        }
      ],
      "source": [
        "initial_centroids = [np.array(data[random.randint(0, len(data) - 1)]) for i in range(3)]\n",
        "clusters2, centers2 = KMeansClustering(data, initial_centroids, 3, 500)"
      ]
    },
    {
      "cell_type": "code",
      "execution_count": 96,
      "metadata": {
        "id": "xVLX4UDi362s"
      },
      "outputs": [],
      "source": [
        "clusters2 = {0:[], 1:[], 2:[]}\n",
        "N = len(position)\n",
        "\n",
        "for index in range(N):\n",
        "    clusters2[position[index]].append(data[index])\n",
        "\n",
        "cluster_representatives2 = closest_to_Centroid(clusters2, centers2, cos_distance)\n",
        "cluster_rep_indexes2 = [np.where(data == rep)[0][0] for rep in cluster_representatives2.values()]\n",
        "\n",
        "# labelling the centroids to test accuracy\n",
        "possible_labels = [\"negative\", \"neutral\", \"positive\"]\n",
        "possible_clusters = [0, 1, 2]\n",
        "labels2 = dict()\n",
        "\n",
        "for cluster in possible_clusters:\n",
        "    labels2[cluster] = list(tweets[\"airline_sentiment\"][cluster_rep_indexes2])[cluster]\n",
        "\n",
        "predicted_sentiments2 = list(map(lambda x: labels2[x], position))"
      ]
    },
    {
      "cell_type": "code",
      "execution_count": 97,
      "metadata": {
        "colab": {
          "base_uri": "https://localhost:8080/"
        },
        "id": "skBHsDtj362s",
        "outputId": "fd223fb1-02aa-4889-e84d-d23e81c6895e"
      },
      "outputs": [
        {
          "output_type": "stream",
          "name": "stdout",
          "text": [
            "accuracy is 42.52%\n"
          ]
        }
      ],
      "source": [
        "accuracy2 = np.mean(tweets[\"airline_sentiment\"] ==  predicted_sentiments2)\n",
        "print(f\"accuracy is {np.round(accuracy2*100, 2)}%\")"
      ]
    },
    {
      "cell_type": "markdown",
      "metadata": {
        "id": "SbF3QdfY362s"
      },
      "source": [
        "Accuracy achieved in Third attempt is ≈ 56.07%"
      ]
    },
    {
      "cell_type": "markdown",
      "metadata": {
        "id": "DGoFs7yD362t"
      },
      "source": [
        "### Fourth Attempt using own K-Means++ Clustering algorithm"
      ]
    },
    {
      "cell_type": "code",
      "execution_count": 98,
      "metadata": {
        "id": "BCRzZNxX362t"
      },
      "outputs": [],
      "source": [
        "def centroid_initalizer(data, k, distance_func):\n",
        "\n",
        "    n_samples = data.shape[0]\n",
        "    # Step 1: Choose the first centroid randomly\n",
        "    first_index = random.randint(0, n_samples - 1)\n",
        "    centroids = [data[first_index]]\n",
        "\n",
        "    for _ in range(1, k):\n",
        "        # Compute the minimum distance to any chosen centroid\n",
        "        distances = np.array([min(distance_func(x, c) for c in centroids) for x in data])\n",
        "\n",
        "        # Normalize distances to form a probability distribution\n",
        "        probabilities = distances / distances.sum()\n",
        "\n",
        "        # Select next centroid based on weighted probability distribution\n",
        "        next_index = np.random.choice(n_samples, p=probabilities)\n",
        "        centroids.append(data[next_index])\n",
        "\n",
        "    return centroids"
      ]
    },
    {
      "cell_type": "code",
      "execution_count": 99,
      "metadata": {
        "colab": {
          "base_uri": "https://localhost:8080/"
        },
        "id": "YzOiO-eV362t",
        "outputId": "3f998a64-f06b-40ee-9509-4679c9caf00e"
      },
      "outputs": [
        {
          "output_type": "stream",
          "name": "stdout",
          "text": [
            "Converged early after 3 iterations.\n"
          ]
        }
      ],
      "source": [
        "initial_centroids = centroid_initalizer(data, 3, cos_distance)\n",
        "clusters2, centers2 = KMeansClustering(data, initial_centroids, 3, 500)"
      ]
    },
    {
      "cell_type": "code",
      "execution_count": 100,
      "metadata": {
        "id": "o8eeYQI6362t"
      },
      "outputs": [],
      "source": [
        "clusters2 = {0:[], 1:[], 2:[]}\n",
        "N = len(position)\n",
        "\n",
        "for index in range(N):\n",
        "    clusters2[position[index]].append(data[index])\n",
        "\n",
        "cluster_representatives2 = closest_to_Centroid(clusters2, centers2, cos_distance)\n",
        "cluster_rep_indexes2 = [np.where(data == rep)[0][0] for rep in cluster_representatives2.values()]\n",
        "\n",
        "# labelling the centroids to test accuracy\n",
        "possible_labels = [\"negative\", \"neutral\", \"positive\"]\n",
        "possible_clusters = [0, 1, 2]\n",
        "labels2 = dict()\n",
        "\n",
        "for cluster in possible_clusters:\n",
        "    labels2[cluster] = list(tweets[\"airline_sentiment\"][cluster_rep_indexes2])[cluster]\n",
        "\n",
        "predicted_sentiments2 = list(map(lambda x: labels2[x], position))"
      ]
    },
    {
      "cell_type": "code",
      "execution_count": 101,
      "metadata": {
        "colab": {
          "base_uri": "https://localhost:8080/"
        },
        "id": "sAUqtN5L362t",
        "outputId": "9475e81f-26f4-4ed2-e20c-68b1f181735f"
      },
      "outputs": [
        {
          "output_type": "stream",
          "name": "stdout",
          "text": [
            "accuracy is 27.26%\n"
          ]
        }
      ],
      "source": [
        "accuracy2 = np.mean(tweets[\"airline_sentiment\"] ==  predicted_sentiments2)\n",
        "print(f\"accuracy is {np.round(accuracy2*100, 2)}%\")"
      ]
    },
    {
      "cell_type": "markdown",
      "metadata": {
        "id": "zLC2WBp6362t"
      },
      "source": [
        "Accuracy achieved in Fourth attempt is ≈ 56.07%"
      ]
    },
    {
      "cell_type": "markdown",
      "metadata": {
        "id": "zu_fY72a362u"
      },
      "source": [
        "## Fifth Attempt"
      ]
    },
    {
      "cell_type": "code",
      "execution_count": 102,
      "metadata": {
        "colab": {
          "base_uri": "https://localhost:8080/"
        },
        "id": "r22bcIyS362u",
        "outputId": "fe26715c-8c83-456e-82a1-025d249c7216"
      },
      "outputs": [
        {
          "output_type": "stream",
          "name": "stdout",
          "text": [
            "Converged early after 3 iterations.\n",
            "Converged early after 3 iterations.\n",
            "Converged early after 3 iterations.\n",
            "Converged early after 3 iterations.\n",
            "Converged early after 3 iterations.\n",
            "Converged early after 3 iterations.\n",
            "Converged early after 3 iterations.\n",
            "Converged early after 3 iterations.\n",
            "Converged early after 3 iterations.\n",
            "Converged early after 3 iterations.\n",
            "Converged early after 3 iterations.\n",
            "Converged early after 3 iterations.\n",
            "Converged early after 3 iterations.\n",
            "Converged early after 3 iterations.\n",
            "Converged early after 3 iterations.\n",
            "Converged early after 3 iterations.\n",
            "Converged early after 3 iterations.\n",
            "Converged early after 3 iterations.\n",
            "Converged early after 3 iterations.\n",
            "Converged early after 3 iterations.\n",
            "Converged early after 3 iterations.\n",
            "Converged early after 3 iterations.\n",
            "Converged early after 3 iterations.\n",
            "Converged early after 3 iterations.\n",
            "Converged early after 3 iterations.\n",
            "Converged early after 3 iterations.\n",
            "Converged early after 3 iterations.\n",
            "Converged early after 3 iterations.\n",
            "Converged early after 3 iterations.\n",
            "Converged early after 3 iterations.\n",
            "Converged early after 3 iterations.\n",
            "Converged early after 3 iterations.\n",
            "Converged early after 3 iterations.\n",
            "Converged early after 3 iterations.\n",
            "Converged early after 3 iterations.\n",
            "Converged early after 3 iterations.\n",
            "Converged early after 3 iterations.\n",
            "Converged early after 3 iterations.\n",
            "Converged early after 3 iterations.\n",
            "Converged early after 3 iterations.\n",
            "Converged early after 3 iterations.\n",
            "Converged early after 3 iterations.\n",
            "Converged early after 3 iterations.\n",
            "Converged early after 3 iterations.\n",
            "Converged early after 3 iterations.\n",
            "Converged early after 3 iterations.\n",
            "Converged early after 3 iterations.\n",
            "Converged early after 3 iterations.\n",
            "Converged early after 3 iterations.\n",
            "Converged early after 3 iterations.\n",
            "Converged early after 3 iterations.\n",
            "Converged early after 3 iterations.\n",
            "Converged early after 3 iterations.\n",
            "Converged early after 3 iterations.\n",
            "Converged early after 3 iterations.\n",
            "Converged early after 3 iterations.\n",
            "Converged early after 3 iterations.\n",
            "Converged early after 3 iterations.\n",
            "Converged early after 3 iterations.\n",
            "Converged early after 3 iterations.\n",
            "Converged early after 3 iterations.\n",
            "Converged early after 3 iterations.\n",
            "Converged early after 3 iterations.\n",
            "Converged early after 3 iterations.\n",
            "Converged early after 3 iterations.\n",
            "Converged early after 3 iterations.\n",
            "Converged early after 3 iterations.\n",
            "Converged early after 3 iterations.\n",
            "Converged early after 3 iterations.\n",
            "Converged early after 3 iterations.\n",
            "Converged early after 3 iterations.\n",
            "Converged early after 3 iterations.\n",
            "Converged early after 3 iterations.\n",
            "Converged early after 3 iterations.\n",
            "Converged early after 3 iterations.\n",
            "Converged early after 3 iterations.\n",
            "Converged early after 3 iterations.\n",
            "Converged early after 3 iterations.\n",
            "Converged early after 3 iterations.\n",
            "Converged early after 3 iterations.\n",
            "Converged early after 3 iterations.\n",
            "Converged early after 3 iterations.\n",
            "Converged early after 3 iterations.\n",
            "Converged early after 3 iterations.\n",
            "Converged early after 3 iterations.\n",
            "Converged early after 3 iterations.\n",
            "Converged early after 3 iterations.\n",
            "Converged early after 3 iterations.\n",
            "Converged early after 3 iterations.\n",
            "Converged early after 3 iterations.\n",
            "Converged early after 3 iterations.\n",
            "Converged early after 3 iterations.\n",
            "Converged early after 3 iterations.\n",
            "Converged early after 3 iterations.\n",
            "Converged early after 3 iterations.\n",
            "Converged early after 3 iterations.\n",
            "Converged early after 3 iterations.\n",
            "Converged early after 3 iterations.\n",
            "Converged early after 3 iterations.\n",
            "Converged early after 3 iterations.\n"
          ]
        }
      ],
      "source": [
        "# 100 Random Seedings\n",
        "results = dict()\n",
        "\n",
        "for i in range(100):\n",
        "    initial_centroids = centroid_initalizer(data, 3, cos_distance)\n",
        "    clusters2, centers2 = KMeansClustering(data, initial_centroids, 3, 500)\n",
        "\n",
        "    clusters2 = {0:[], 1:[], 2:[]}\n",
        "    N = len(position)\n",
        "\n",
        "    for index in range(N):\n",
        "        clusters2[position[index]].append(data[index])\n",
        "\n",
        "    cluster_representatives2 = closest_to_Centroid(clusters2, centers2, cos_distance)\n",
        "    cluster_rep_indexes2 = [np.where(data == rep)[0][0] for rep in cluster_representatives2.values()]\n",
        "\n",
        "    # labelling the centroids to test accuracy\n",
        "    possible_labels = [\"negative\", \"neutral\", \"positive\"]\n",
        "    possible_clusters = [0, 1, 2]\n",
        "    labels2 = dict()\n",
        "\n",
        "    for cluster in possible_clusters:\n",
        "        labels2[cluster] = list(tweets[\"airline_sentiment\"][cluster_rep_indexes2])[cluster]\n",
        "\n",
        "    predicted_sentiments2 = list(map(lambda x: labels2[x], position))\n",
        "\n",
        "    accuracy2 = np.mean(tweets[\"airline_sentiment\"] ==  predicted_sentiments2)\n",
        "    results[i] = (accuracy2, (clusters2, centers2))"
      ]
    },
    {
      "cell_type": "markdown",
      "metadata": {
        "id": "a2tGPdBx362u"
      },
      "source": [
        "### Think of new ways to improve"
      ]
    },
    {
      "cell_type": "markdown",
      "metadata": {
        "id": "MgRe6oo1362u"
      },
      "source": [
        "#### PCA Analysis"
      ]
    },
    {
      "cell_type": "code",
      "execution_count": 103,
      "metadata": {
        "id": "Ax3p0URO362u"
      },
      "outputs": [],
      "source": [
        "scaler = StandardScaler()\n",
        "bert_vectors_std = scaler.fit_transform(Bert_Encoded_Text)  # Shape: (N, 768)\n",
        "\n",
        "# Choose the number of components\n",
        "n_components = 50 # Example: Reduce to 50 dimensions\n",
        "pca = PCA(n_components=n_components)\n",
        "\n",
        "bert_pca = pca.fit_transform(bert_vectors_std)  # Shape: (N, 50)"
      ]
    },
    {
      "cell_type": "code",
      "execution_count": 104,
      "metadata": {
        "colab": {
          "base_uri": "https://localhost:8080/"
        },
        "id": "RSb3MAZ8362u",
        "outputId": "cef8a1ac-2ad5-45d7-e07a-e5df302016ac"
      },
      "outputs": [
        {
          "output_type": "stream",
          "name": "stdout",
          "text": [
            "Converged early after 3 iterations.\n"
          ]
        }
      ],
      "source": [
        "initial_centroids = centroid_initalizer(bert_pca, 3, cos_distance)\n",
        "clusters2, centers2 = KMeansClustering(bert_pca, initial_centroids, 3, 500)"
      ]
    },
    {
      "cell_type": "code",
      "execution_count": 105,
      "metadata": {
        "id": "bHUnc-m4362u"
      },
      "outputs": [],
      "source": [
        "clusters2 = {0:[], 1:[], 2:[]}\n",
        "N = len(position)\n",
        "\n",
        "for index in range(N):\n",
        "    clusters2[position[index]].append(bert_pca[index])\n",
        "\n",
        "cluster_representatives2 = closest_to_Centroid(clusters2, centers2, cos_distance)\n",
        "cluster_rep_indexes2 = [np.where(bert_pca == rep)[0][0] for rep in cluster_representatives2.values()]\n",
        "\n",
        "# labelling the centroids to test accuracy\n",
        "possible_labels = [\"negative\", \"neutral\", \"positive\"]\n",
        "possible_clusters = [0, 1, 2]\n",
        "labels2 = dict()\n",
        "\n",
        "for cluster in possible_clusters:\n",
        "    labels2[cluster] = list(tweets[\"airline_sentiment\"][cluster_rep_indexes2])[cluster]\n",
        "\n",
        "predicted_sentiments2 = list(map(lambda x: labels2[x], position))"
      ]
    },
    {
      "cell_type": "code",
      "execution_count": 106,
      "metadata": {
        "colab": {
          "base_uri": "https://localhost:8080/"
        },
        "id": "Ya_ORsNr362v",
        "outputId": "e85d8ed3-fbfb-483d-ec03-612b5b599e3e"
      },
      "outputs": [
        {
          "output_type": "stream",
          "name": "stdout",
          "text": [
            "accuracy is 54.49%\n"
          ]
        }
      ],
      "source": [
        "accuracy2 = np.mean(tweets[\"airline_sentiment\"] ==  predicted_sentiments2)\n",
        "print(f\"accuracy is {np.round(accuracy2*100, 2)}%\")"
      ]
    },
    {
      "cell_type": "markdown",
      "metadata": {
        "id": "hx2KvET8362v"
      },
      "source": [
        "Accuracy achieved in Sixth attempt is ≈ 35.64%"
      ]
    },
    {
      "cell_type": "markdown",
      "metadata": {
        "id": "OkGsL-yf362v"
      },
      "source": [
        "## PCA Might Not Be the Best Approach\n",
        "#### PCA finds linear patterns, but BERT vectors often have nonlinear structure."
      ]
    },
    {
      "cell_type": "markdown",
      "metadata": {
        "id": "gB8AMUtk362v"
      },
      "source": [
        "#### UMAP (Uniform Manifold Approximation and Projection)"
      ]
    },
    {
      "cell_type": "code",
      "execution_count": 107,
      "metadata": {
        "id": "qbOlsbfE362v"
      },
      "outputs": [],
      "source": [
        "import umap.umap_ as um"
      ]
    },
    {
      "cell_type": "code",
      "execution_count": 108,
      "metadata": {
        "colab": {
          "base_uri": "https://localhost:8080/"
        },
        "id": "Fy1AJnuX362v",
        "outputId": "e1c26e5d-fbab-44d6-ac35-f5daf75abb3b"
      },
      "outputs": [
        {
          "output_type": "stream",
          "name": "stderr",
          "text": [
            "/usr/local/lib/python3.11/dist-packages/sklearn/utils/deprecation.py:151: FutureWarning: 'force_all_finite' was renamed to 'ensure_all_finite' in 1.6 and will be removed in 1.8.\n",
            "  warnings.warn(\n",
            "/usr/local/lib/python3.11/dist-packages/umap/umap_.py:1952: UserWarning: n_jobs value 1 overridden to 1 by setting random_state. Use no seed for parallelism.\n",
            "  warn(\n"
          ]
        }
      ],
      "source": [
        "umap = um.UMAP(n_components=50, random_state=42)\n",
        "bert_umap = umap.fit_transform(Bert_Encoded_Text)"
      ]
    },
    {
      "cell_type": "code",
      "execution_count": 110,
      "metadata": {
        "colab": {
          "base_uri": "https://localhost:8080/",
          "height": 304
        },
        "id": "7IRYEP4Z362w",
        "outputId": "9efff876-1db7-45dc-c9a1-1c82ea79a94b"
      },
      "outputs": [
        {
          "output_type": "error",
          "ename": "TypeError",
          "evalue": "unsupported operand type(s) for -: 'NoneType' and 'float'",
          "traceback": [
            "\u001b[0;31m---------------------------------------------------------------------------\u001b[0m",
            "\u001b[0;31mTypeError\u001b[0m                                 Traceback (most recent call last)",
            "\u001b[0;32m<ipython-input-110-6a8c47103098>\u001b[0m in \u001b[0;36m<cell line: 0>\u001b[0;34m()\u001b[0m\n\u001b[1;32m      1\u001b[0m \u001b[0minitial_centroids\u001b[0m \u001b[0;34m=\u001b[0m \u001b[0mcentroid_initalizer\u001b[0m\u001b[0;34m(\u001b[0m\u001b[0mbert_umap\u001b[0m\u001b[0;34m,\u001b[0m \u001b[0;36m3\u001b[0m\u001b[0;34m,\u001b[0m \u001b[0mcos_distance\u001b[0m\u001b[0;34m)\u001b[0m\u001b[0;34m\u001b[0m\u001b[0;34m\u001b[0m\u001b[0m\n\u001b[0;32m----> 2\u001b[0;31m \u001b[0mclusters2\u001b[0m\u001b[0;34m,\u001b[0m \u001b[0mcenters2\u001b[0m \u001b[0;34m=\u001b[0m \u001b[0mKMeansClustering\u001b[0m\u001b[0;34m(\u001b[0m\u001b[0mbert_umap\u001b[0m\u001b[0;34m,\u001b[0m \u001b[0minitial_centroids\u001b[0m\u001b[0;34m,\u001b[0m \u001b[0;36m3\u001b[0m\u001b[0;34m,\u001b[0m \u001b[0;36m500\u001b[0m\u001b[0;34m)\u001b[0m\u001b[0;34m\u001b[0m\u001b[0;34m\u001b[0m\u001b[0m\n\u001b[0m",
            "\u001b[0;32m<ipython-input-86-ae01ab9e4f17>\u001b[0m in \u001b[0;36mKMeansClustering\u001b[0;34m(X, initial_centroids, k, n, tolerance)\u001b[0m\n\u001b[1;32m     35\u001b[0m \u001b[0;34m\u001b[0m\u001b[0m\n\u001b[1;32m     36\u001b[0m         \u001b[0;31m# Check for early stopping (convergence)\u001b[0m\u001b[0;34m\u001b[0m\u001b[0;34m\u001b[0m\u001b[0m\n\u001b[0;32m---> 37\u001b[0;31m         \u001b[0mcentroid_changes\u001b[0m \u001b[0;34m=\u001b[0m \u001b[0;34m[\u001b[0m\u001b[0mnp\u001b[0m\u001b[0;34m.\u001b[0m\u001b[0mlinalg\u001b[0m\u001b[0;34m.\u001b[0m\u001b[0mnorm\u001b[0m\u001b[0;34m(\u001b[0m\u001b[0mnew_centroids\u001b[0m\u001b[0;34m[\u001b[0m\u001b[0mcluster_key\u001b[0m\u001b[0;34m]\u001b[0m \u001b[0;34m-\u001b[0m \u001b[0mcentroids\u001b[0m\u001b[0;34m[\u001b[0m\u001b[0mcluster_key\u001b[0m\u001b[0;34m]\u001b[0m\u001b[0;34m)\u001b[0m \u001b[0;32mfor\u001b[0m \u001b[0mcluster_key\u001b[0m \u001b[0;32min\u001b[0m \u001b[0mcentroids\u001b[0m\u001b[0;34m]\u001b[0m\u001b[0;34m\u001b[0m\u001b[0;34m\u001b[0m\u001b[0m\n\u001b[0m\u001b[1;32m     38\u001b[0m         \u001b[0mmax_change\u001b[0m \u001b[0;34m=\u001b[0m \u001b[0mmax\u001b[0m\u001b[0;34m(\u001b[0m\u001b[0mcentroid_changes\u001b[0m\u001b[0;34m)\u001b[0m\u001b[0;34m\u001b[0m\u001b[0;34m\u001b[0m\u001b[0m\n\u001b[1;32m     39\u001b[0m \u001b[0;34m\u001b[0m\u001b[0m\n",
            "\u001b[0;32m<ipython-input-86-ae01ab9e4f17>\u001b[0m in \u001b[0;36m<listcomp>\u001b[0;34m(.0)\u001b[0m\n\u001b[1;32m     35\u001b[0m \u001b[0;34m\u001b[0m\u001b[0m\n\u001b[1;32m     36\u001b[0m         \u001b[0;31m# Check for early stopping (convergence)\u001b[0m\u001b[0;34m\u001b[0m\u001b[0;34m\u001b[0m\u001b[0m\n\u001b[0;32m---> 37\u001b[0;31m         \u001b[0mcentroid_changes\u001b[0m \u001b[0;34m=\u001b[0m \u001b[0;34m[\u001b[0m\u001b[0mnp\u001b[0m\u001b[0;34m.\u001b[0m\u001b[0mlinalg\u001b[0m\u001b[0;34m.\u001b[0m\u001b[0mnorm\u001b[0m\u001b[0;34m(\u001b[0m\u001b[0mnew_centroids\u001b[0m\u001b[0;34m[\u001b[0m\u001b[0mcluster_key\u001b[0m\u001b[0;34m]\u001b[0m \u001b[0;34m-\u001b[0m \u001b[0mcentroids\u001b[0m\u001b[0;34m[\u001b[0m\u001b[0mcluster_key\u001b[0m\u001b[0;34m]\u001b[0m\u001b[0;34m)\u001b[0m \u001b[0;32mfor\u001b[0m \u001b[0mcluster_key\u001b[0m \u001b[0;32min\u001b[0m \u001b[0mcentroids\u001b[0m\u001b[0;34m]\u001b[0m\u001b[0;34m\u001b[0m\u001b[0;34m\u001b[0m\u001b[0m\n\u001b[0m\u001b[1;32m     38\u001b[0m         \u001b[0mmax_change\u001b[0m \u001b[0;34m=\u001b[0m \u001b[0mmax\u001b[0m\u001b[0;34m(\u001b[0m\u001b[0mcentroid_changes\u001b[0m\u001b[0;34m)\u001b[0m\u001b[0;34m\u001b[0m\u001b[0;34m\u001b[0m\u001b[0m\n\u001b[1;32m     39\u001b[0m \u001b[0;34m\u001b[0m\u001b[0m\n",
            "\u001b[0;31mTypeError\u001b[0m: unsupported operand type(s) for -: 'NoneType' and 'float'"
          ]
        }
      ],
      "source": [
        "initial_centroids = centroid_initalizer(bert_umap, 3, cos_distance)\n",
        "clusters2, centers2 = KMeansClustering(bert_umap, initial_centroids, 3, 500)"
      ]
    },
    {
      "cell_type": "code",
      "execution_count": null,
      "metadata": {
        "id": "0pmLKtOx362w"
      },
      "outputs": [],
      "source": [
        "clusters2 = {0:[], 1:[], 2:[]}\n",
        "N = len(position)\n",
        "\n",
        "for index in range(N):\n",
        "    clusters2[position[index]].append(bert_umap[index])\n",
        "\n",
        "cluster_representatives2 = closest_to_Centroid(clusters2, centers2, cos_distance)\n",
        "cluster_rep_indexes2 = [np.where(bert_umap == rep)[0][0] for rep in cluster_representatives2.values()]\n",
        "\n",
        "# labelling the centroids to test accuracy\n",
        "possible_labels = [\"negative\", \"neutral\", \"positive\"]\n",
        "possible_clusters = [0, 1, 2]\n",
        "labels2 = dict()\n",
        "\n",
        "for cluster in possible_clusters:\n",
        "    labels2[cluster] = list(tweets[\"airline_sentiment\"][cluster_rep_indexes2])[cluster]\n",
        "\n",
        "predicted_sentiments2 = list(map(lambda x: labels2[x], position))"
      ]
    },
    {
      "cell_type": "code",
      "execution_count": null,
      "metadata": {
        "id": "LdeN5uS-362w"
      },
      "outputs": [],
      "source": [
        "accuracy2 = np.mean(tweets[\"airline_sentiment\"] ==  predicted_sentiments2)\n",
        "print(f\"accuracy is {np.round(accuracy2*100, 2)}%\")"
      ]
    },
    {
      "cell_type": "markdown",
      "metadata": {
        "id": "8RaaeO6b362w"
      },
      "source": [
        "Accuracy achieved in Seventh attempt is ≈ 54.55%"
      ]
    },
    {
      "cell_type": "markdown",
      "metadata": {
        "id": "AWuoOF2E362w"
      },
      "source": [
        "### It seems like BERT Encoding with Cosine-distance K-Means++ still outperforms it"
      ]
    }
  ],
  "metadata": {
    "kernelspec": {
      "display_name": "Python 3",
      "language": "python",
      "name": "python3"
    },
    "language_info": {
      "codemirror_mode": {
        "name": "ipython",
        "version": 3
      },
      "file_extension": ".py",
      "mimetype": "text/x-python",
      "name": "python",
      "nbconvert_exporter": "python",
      "pygments_lexer": "ipython3",
      "version": "3.10.11"
    },
    "colab": {
      "provenance": []
    }
  },
  "nbformat": 4,
  "nbformat_minor": 0
}