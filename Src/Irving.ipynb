{
 "cells": [
  {
   "cell_type": "markdown",
   "metadata": {},
   "source": [
    "# IT1244 Project"
   ]
  },
  {
   "cell_type": "markdown",
   "metadata": {},
   "source": [
    "## Import Libraries"
   ]
  },
  {
   "cell_type": "code",
   "execution_count": 1,
   "metadata": {},
   "outputs": [],
   "source": [
    "import re as re\n",
    "import heapq as heapq\n",
    "import pandas as pd\n",
    "import numpy as np\n",
    "import seaborn as sns\n",
    "import matplotlib.pyplot as plt\n",
    "from scipy.stats import chi2_contingency\n",
    "from sklearn.preprocessing import OneHotEncoder, StandardScaler, MultiLabelBinarizer, Normalizer\n",
    "from sklearn.model_selection import train_test_split\n",
    "from sklearn.metrics.pairwise import cosine_similarity"
   ]
  },
  {
   "cell_type": "code",
   "execution_count": 2,
   "metadata": {},
   "outputs": [],
   "source": [
    "import torch as torch"
   ]
  },
  {
   "cell_type": "code",
   "execution_count": 3,
   "metadata": {},
   "outputs": [
    {
     "name": "stderr",
     "output_type": "stream",
     "text": [
      "c:\\Users\\irvin\\AppData\\Local\\Programs\\Python\\Python310\\lib\\site-packages\\tqdm\\auto.py:21: TqdmWarning: IProgress not found. Please update jupyter and ipywidgets. See https://ipywidgets.readthedocs.io/en/stable/user_install.html\n",
      "  from .autonotebook import tqdm as notebook_tqdm\n",
      "c:\\Users\\irvin\\AppData\\Local\\Programs\\Python\\Python310\\lib\\site-packages\\huggingface_hub\\file_download.py:142: UserWarning: `huggingface_hub` cache-system uses symlinks by default to efficiently store duplicated files but your machine does not support them in C:\\Users\\irvin\\.cache\\huggingface\\hub\\models--bert-base-uncased. Caching files will still work but in a degraded version that might require more space on your disk. This warning can be disabled by setting the `HF_HUB_DISABLE_SYMLINKS_WARNING` environment variable. For more details, see https://huggingface.co/docs/huggingface_hub/how-to-cache#limitations.\n",
      "To support symlinks on Windows, you either need to activate Developer Mode or to run Python as an administrator. In order to activate developer mode, see this article: https://docs.microsoft.com/en-us/windows/apps/get-started/enable-your-device-for-development\n",
      "  warnings.warn(message)\n"
     ]
    }
   ],
   "source": [
    "from transformers import BertModel\n",
    "from transformers import BertTokenizer, BertTokenizerFast\n",
    "\n",
    "model = BertModel.from_pretrained('bert-base-uncased')"
   ]
  },
  {
   "cell_type": "code",
   "execution_count": 4,
   "metadata": {},
   "outputs": [
    {
     "name": "stdout",
     "output_type": "stream",
     "text": [
      "torch.Size([1, 768])\n"
     ]
    }
   ],
   "source": [
    "\n",
    "tokenizer = BertTokenizer.from_pretrained(\"bert-base-uncased\")\n",
    "\n",
    "# Encode sentence\n",
    "sentence = \"This is an example sentence.\"\n",
    "inputs = tokenizer(sentence, return_tensors=\"pt\")\n",
    "\n",
    "# Get embeddings\n",
    "with torch.no_grad():\n",
    "    outputs = model(**inputs)\n",
    "\n",
    "# Extract [CLS] token embedding (sentence-level representation)\n",
    "cls_embedding = outputs.last_hidden_state[:, 0, :]\n",
    "print(cls_embedding.shape)  # Should be (1, 768)"
   ]
  },
  {
   "cell_type": "code",
   "execution_count": 5,
   "metadata": {},
   "outputs": [
    {
     "data": {
      "text/plain": [
       "tensor([[-3.7736e-01, -3.3498e-01, -3.2064e-01, -4.3991e-01, -5.0140e-01,\n",
       "         -2.1692e-01,  4.7474e-01,  5.7114e-01, -8.4856e-02, -1.0667e-01,\n",
       "         -3.7948e-01, -4.8466e-03, -9.6260e-02,  1.4302e-02,  6.4120e-01,\n",
       "          4.2318e-02,  2.1465e-01,  5.6647e-01,  2.4406e-01, -4.9750e-01,\n",
       "          2.4432e-01, -3.1471e-01, -1.8387e-01, -4.3433e-01,  3.7000e-01,\n",
       "         -4.8847e-01, -1.6026e-01, -5.3024e-01, -2.5536e-01,  2.5280e-02,\n",
       "          1.1406e-01,  3.2830e-01, -3.3749e-01, -1.7455e-01,  5.4211e-01,\n",
       "         -2.4419e-01,  2.1843e-01, -5.2654e-02,  5.4251e-01,  2.2136e-01,\n",
       "         -2.6010e-01, -6.9896e-02,  4.5415e-01,  1.4498e-01,  7.1129e-02,\n",
       "         -1.9316e-01, -2.8830e+00, -4.7826e-01, -4.7273e-01, -2.8777e-01,\n",
       "         -3.7046e-01, -8.1553e-02,  7.4794e-01,  4.6832e-01, -2.2192e-01,\n",
       "          3.8314e-01, -3.8344e-01,  3.7906e-01,  2.1074e-01,  1.0201e-02,\n",
       "          3.5558e-01,  4.1932e-02, -1.1501e-02, -9.0390e-02, -2.5045e-02,\n",
       "          6.6402e-01, -3.8978e-02,  5.1799e-01, -5.9631e-01,  6.3771e-01,\n",
       "         -6.3067e-01, -4.1084e-01,  5.3877e-01,  2.2876e-02,  1.6656e-02,\n",
       "          1.6094e-01, -9.6985e-02,  4.4382e-01, -5.9417e-01, -4.2183e-01,\n",
       "         -9.3197e-02,  6.3237e-01,  3.0084e-01, -1.5809e-01,  5.5678e-01,\n",
       "          1.0893e-01, -3.9810e-01, -5.4348e-01,  6.6641e-03,  6.2951e-01,\n",
       "         -2.4228e-01,  3.5470e-01, -3.5806e-01,  3.4454e-01,  5.4716e-01,\n",
       "         -8.7144e-02,  2.4550e-02, -7.3979e-02,  3.9932e-02,  3.3693e-01,\n",
       "          2.5580e-01, -4.1367e-02,  3.9825e-01, -6.2729e-01,  7.5784e-02,\n",
       "         -3.0766e-01, -3.0759e-01, -5.0321e-01,  2.7642e-02, -2.4119e+00,\n",
       "          3.4382e-01,  1.4616e-01, -2.0604e-01, -1.4971e-01, -1.0435e-01,\n",
       "          6.7443e-01,  3.9969e-01,  1.5445e-01,  8.0277e-02,  1.6610e-01,\n",
       "         -1.5882e-01,  3.3290e-01, -6.3916e-02, -2.3441e-01, -2.3852e-01,\n",
       "          5.6431e-01,  4.0556e-01,  1.1613e-01,  7.9240e-01,  2.0425e-01,\n",
       "          2.7521e-01,  5.6744e-01,  1.0694e-01, -5.1168e-01, -4.4951e-02,\n",
       "         -1.6043e-01,  3.8344e-01,  1.8555e-01, -3.9613e-01, -1.2774e-01,\n",
       "         -1.6725e-01, -3.4393e-01, -2.7278e+00, -3.3512e-01,  8.1438e-01,\n",
       "          4.7150e-01, -3.7077e-01,  1.3338e-02,  6.2149e-01,  2.5116e-01,\n",
       "          1.7274e-01, -1.5070e-01, -3.5491e-01,  3.3947e-01, -6.2890e-01,\n",
       "          1.4646e-01,  8.9302e-02,  2.8515e-02,  3.8741e-01,  4.1896e-01,\n",
       "          3.9638e-01, -7.9822e-02,  4.0126e-01, -4.8733e-02, -1.5721e-01,\n",
       "          3.7072e-01,  4.3607e-01, -1.7824e-01,  9.7063e-03,  3.4710e-01,\n",
       "         -7.2706e-01,  1.6084e-02,  3.8268e-01, -2.9191e-01, -1.7557e-01,\n",
       "          2.9953e-01,  2.8572e-01,  4.3013e-01,  4.9541e-01, -3.6750e-01,\n",
       "         -3.6266e-01,  6.6517e-01, -3.9849e-02, -4.4698e-01,  5.1459e-01,\n",
       "         -2.0201e-01,  8.1853e-01, -1.5169e-01, -7.3462e-02,  2.7992e-01,\n",
       "          3.8506e-02, -3.7447e-01,  5.2496e-01, -1.6706e-01,  4.0660e-01,\n",
       "          7.1226e-01, -1.1028e-01, -8.0131e-01, -1.8844e-01,  4.4844e-01,\n",
       "         -2.2543e-01,  5.0554e-03, -2.2037e-01,  7.2525e-02, -1.9186e-01,\n",
       "          3.7166e+00,  1.1026e-01, -7.0183e-03,  2.5949e-01,  2.8338e-01,\n",
       "         -3.9168e-02,  5.2295e-01,  2.7792e-01, -3.1478e-01,  4.0312e-01,\n",
       "         -1.2649e-01,  4.9827e-01,  6.9374e-02, -3.8231e-01, -2.1016e-01,\n",
       "         -1.0640e-01,  1.1045e-01, -4.3478e-02,  2.3193e-01, -1.7198e-01,\n",
       "          1.7705e-01,  1.6168e-01,  7.8241e-01,  2.8947e-01, -1.5280e+00,\n",
       "          2.7283e-01,  2.0531e-01,  3.4314e-02,  1.9655e-01, -6.0730e-01,\n",
       "         -1.2347e-01, -5.9892e-02, -2.3910e-02, -4.0792e-01,  5.5883e-04,\n",
       "          3.8951e-02,  5.2603e-01, -4.3493e-01, -2.6594e-02, -3.4902e-01,\n",
       "          9.7914e-02,  1.3842e-01, -2.4798e-01,  2.1002e-01, -7.6232e-02,\n",
       "          6.7150e-01, -3.7210e-02,  8.8467e-02, -2.5377e-01, -2.0763e-01,\n",
       "          3.1401e-01,  2.5848e-01,  4.3798e-01, -3.2169e-01,  4.8586e-01,\n",
       "         -5.3908e-01, -5.1740e-02, -1.9495e-01,  4.0361e-01, -9.7083e-01,\n",
       "         -1.6919e-01, -2.8714e-01, -1.6386e-01,  3.5423e-01, -6.6809e-02,\n",
       "         -5.1784e-01, -8.0955e-01, -2.0818e-01, -3.3725e+00,  1.8240e-01,\n",
       "          4.1990e-01, -6.1138e-02,  3.5415e-01, -2.0859e-01,  2.2155e-01,\n",
       "          2.5741e-02,  2.2638e-01, -3.1658e-01,  3.0125e-01,  5.5049e-02,\n",
       "         -2.2049e-02,  3.0586e-01, -1.6346e-01,  9.5565e-02, -8.7678e-02,\n",
       "         -6.4413e-01, -1.3129e-01, -6.4092e-01, -3.9260e-02,  9.9815e-02,\n",
       "          1.3235e-01,  2.5202e-01, -1.9194e-01, -1.7783e-01, -4.2894e-01,\n",
       "         -4.8593e-01, -6.6620e-02, -4.8125e-01, -1.8824e-01, -3.7275e-01,\n",
       "          2.8034e-01, -8.0406e-03, -5.1319e-02, -2.7719e+00,  4.5815e-01,\n",
       "         -3.0763e-01, -9.2507e-02,  1.8414e-02, -8.5567e-02,  2.7092e-01,\n",
       "          8.7859e-02, -2.6177e-01,  1.4411e-01, -1.6350e-01, -5.6132e-01,\n",
       "         -3.9586e-01,  6.4163e-01,  2.5565e-01,  4.9285e-01,  4.0181e-01,\n",
       "          1.5306e-01,  2.1663e-01,  2.0868e-01, -1.7079e-01,  3.3835e-01,\n",
       "          1.7920e-01, -2.9982e-01,  2.4591e-01,  5.4358e-01, -5.2811e-01,\n",
       "          3.8551e-02, -3.1432e-01, -3.3671e-01,  3.9842e-01,  2.0478e-01,\n",
       "          1.7838e-01, -4.4524e-01, -7.3317e-01,  1.2089e-01,  1.6243e-01,\n",
       "          1.1598e-01,  4.9551e-01, -1.7564e-01, -4.0131e-01,  6.6938e-01,\n",
       "          4.7795e-02,  4.4158e-01,  7.4321e-01, -1.8611e-01, -3.4311e-01,\n",
       "         -1.4689e-02,  3.6118e-01,  2.3420e-01, -6.6600e-01, -1.7432e-02,\n",
       "          1.4811e+00,  3.2102e-01,  2.9468e-01, -8.2177e-02,  4.9653e-01,\n",
       "          1.3758e-01,  5.3028e-01,  2.9914e-01,  1.1514e+00, -1.7990e-01,\n",
       "          1.1086e-01, -5.9248e-01,  4.3355e-01, -7.0478e-01,  6.5041e-01,\n",
       "         -2.3179e-01,  2.2403e-02,  1.5932e-01,  5.2304e-02,  1.2508e-01,\n",
       "         -6.8069e-01, -6.6593e-01,  1.7991e-01,  1.1023e-01,  1.2452e-01,\n",
       "         -3.6935e-02,  1.2422e-01, -2.1873e-01, -8.0914e-02, -3.2826e-01,\n",
       "         -8.2026e-01,  5.8715e-01, -1.6506e-01, -1.2484e-01,  2.1860e-01,\n",
       "          1.5989e-02, -1.0355e+00, -2.4099e-01, -6.5951e-01,  2.0253e-01,\n",
       "         -5.8383e-02,  2.5040e-01, -4.9650e-01,  2.7574e-01,  8.2062e-01,\n",
       "         -9.0555e-01,  1.7211e-01, -5.4421e-01, -3.5233e-02, -3.3210e-01,\n",
       "         -1.1659e-01,  2.0748e-01, -4.6406e-01, -6.6483e-03, -3.1744e-01,\n",
       "          4.9169e-01,  1.4049e-01,  3.4974e-01, -9.7886e-02, -1.6010e-01,\n",
       "         -2.5341e-01,  3.2888e-01,  6.9858e-01,  1.1378e-01, -4.1824e-01,\n",
       "          5.1429e-01,  9.0261e-01,  2.1413e-01,  1.4369e-01, -4.1381e-02,\n",
       "          3.7422e-02, -1.2783e-01, -5.9418e-01, -7.2168e-02,  1.2718e-01,\n",
       "          6.3456e-02, -2.1903e-01, -3.8829e-01, -4.4913e-01,  2.2448e-02,\n",
       "         -4.4013e-01, -4.8853e-01, -5.8727e-02, -1.1168e+00, -1.0747e-01,\n",
       "          5.7747e-01,  4.0367e-01, -2.2299e-01,  5.0546e-01, -1.8081e-02,\n",
       "         -5.2761e-01,  1.9394e-01, -2.4796e-01,  6.6628e-01,  9.2075e-02,\n",
       "         -8.3079e-02, -4.2817e-01,  6.3660e-01,  9.4641e-02, -3.2828e-01,\n",
       "         -4.4931e-01, -4.6118e-01,  5.9041e-02, -3.9617e-01, -1.6931e-01,\n",
       "          2.0087e-01,  1.5223e-01,  1.2195e-01,  2.6385e-02,  4.9854e-01,\n",
       "         -1.6084e+00,  2.0630e-01,  5.7890e-01, -3.8035e-01, -1.6510e-01,\n",
       "         -5.3277e-02, -5.2368e-01,  6.4672e-01, -8.5762e-02,  1.3363e-01,\n",
       "         -3.1859e-01,  1.2779e-01,  2.8290e-01,  1.1691e-01,  4.8976e-01,\n",
       "          8.4534e-02,  4.3208e-01, -3.5005e-02, -1.6480e-01, -2.5144e-01,\n",
       "          4.1020e-02,  2.6356e-01,  1.2839e-03, -1.2518e-01,  2.4084e-01,\n",
       "          5.9000e-02, -2.2164e-01,  1.5118e-01, -1.6351e-02,  5.6978e-01,\n",
       "         -1.5007e-01, -4.7417e-01, -1.2175e+00, -2.4821e-01,  1.1912e-01,\n",
       "          6.6080e-02,  1.6602e-01, -4.2437e-01,  5.1072e-01,  8.4581e-01,\n",
       "         -3.5587e-01,  5.3290e-01,  3.4371e-01, -2.3001e-01,  6.8931e-02,\n",
       "          6.2545e-01, -3.3128e-01,  4.7594e-01,  2.3215e-02, -6.9973e-01,\n",
       "         -4.5474e-02, -4.0904e-01, -4.0334e-01, -3.3586e-01,  3.2654e-01,\n",
       "         -1.4255e-01,  1.1896e-01, -1.0464e-01, -5.5787e-01, -2.6725e-01,\n",
       "          2.5100e-02, -5.6225e-01, -3.6227e-01,  3.6404e-01, -4.4827e-01,\n",
       "         -8.6018e-01, -2.0348e-02, -5.6079e-03, -3.6547e-01,  3.6125e-01,\n",
       "          4.8173e-01,  1.6322e-01, -4.5583e-01, -5.7173e-01, -5.9689e-01,\n",
       "          2.4798e-01, -1.6099e-02, -1.6943e-01,  5.7009e-01,  7.6679e-03,\n",
       "          4.5624e-01, -7.9887e-01, -1.3891e-01,  1.4698e-01,  2.8774e-01,\n",
       "         -1.7134e-01, -2.6895e-01,  7.5663e-02, -2.0207e-01, -1.2915e-02,\n",
       "         -7.5464e-01, -7.4488e-01,  6.4365e-01, -1.1672e-01,  2.8899e-01,\n",
       "          1.1470e-01, -1.2855e-01,  1.1200e-01,  3.6381e-01, -3.4733e-02,\n",
       "         -2.0565e-01,  8.2547e-01,  2.7176e-01,  4.0601e-01,  3.5022e-01,\n",
       "          5.7521e-01,  4.8328e-01,  1.7703e-01, -2.6736e-01, -2.6572e-01,\n",
       "         -1.4105e-01,  6.5093e-03,  3.8160e-01, -2.8193e-01,  5.8220e-01,\n",
       "         -2.7470e-01,  2.6783e-01, -3.6911e-01,  1.7973e+00,  5.5247e-01,\n",
       "         -1.8878e-01, -1.5140e-01,  6.0099e-01,  1.1709e-01, -3.1340e-01,\n",
       "          2.4281e-01, -2.1667e-01,  2.4810e-01, -3.4841e-01,  1.0819e-01,\n",
       "         -1.4052e-01,  3.1452e-01,  1.6797e-01, -1.5874e-02, -1.6108e-01,\n",
       "         -7.0583e-02, -8.4889e-01, -5.4077e-01, -3.9983e-01,  1.0079e+00,\n",
       "          1.6932e-01, -3.4187e-01,  1.4534e-01,  3.3405e-01,  3.4686e-01,\n",
       "         -9.8971e-02,  4.6195e-02,  5.5399e-01, -1.9366e-01,  7.3145e-01,\n",
       "          2.7297e-01,  9.8888e-02, -5.2598e-02,  4.7455e-02, -2.2619e-01,\n",
       "         -3.6770e-01,  4.4610e-04, -8.7284e-02, -2.7929e-01, -6.4151e-01,\n",
       "          2.8704e-01,  1.2759e-01, -6.7343e-01,  6.0337e-01, -1.7910e-02,\n",
       "         -1.1471e-01,  2.6606e-01,  2.6863e-01,  2.5521e-01,  1.0197e-01,\n",
       "         -3.3942e-01,  4.3785e-01, -7.8501e-01, -1.6197e-01,  4.0735e-01,\n",
       "          7.7062e-02, -1.7811e-01,  1.4721e-01,  1.3298e-01,  4.0645e-01,\n",
       "         -1.7838e-01, -6.7625e-01, -3.2168e-01, -4.0086e-01, -4.1782e-01,\n",
       "          4.2823e-01, -4.8275e-02, -4.2774e-01,  1.7831e-01,  6.8874e-01,\n",
       "          7.0598e-01,  6.0353e-01,  5.1485e-01, -2.2265e-03,  2.2262e-01,\n",
       "         -4.4947e-01, -1.4512e-01, -2.5479e+00,  4.8184e-02,  2.5732e-01,\n",
       "          3.7778e-01,  2.9162e-01,  1.2379e-01, -1.0032e-02,  1.1226e-01,\n",
       "          5.5720e-01, -5.0702e-02,  1.9077e-01,  4.5719e-01,  3.5198e-01,\n",
       "         -5.4679e-02, -5.3584e-02, -9.7881e-02,  3.2293e-01, -3.9114e-01,\n",
       "         -1.0205e-01, -3.3593e-01,  9.6434e-02, -1.8348e-01,  3.0647e-01,\n",
       "         -2.3014e-01, -4.6063e-01, -1.3561e-01, -1.4040e-01, -2.7118e-01,\n",
       "          3.7841e-01,  2.9528e-01, -1.9824e-01,  1.1240e-01, -4.3349e-02,\n",
       "          6.0874e-02, -2.3508e-01,  1.6155e-01,  2.7596e-01, -4.1033e-01,\n",
       "          6.7563e-01,  3.5551e-01, -2.8663e-01,  3.6690e-01, -8.0690e-02,\n",
       "          3.0872e-01, -1.3404e-01, -1.0024e-01,  3.5699e-01, -1.5190e-01,\n",
       "          4.9739e-01, -2.7907e-01, -3.7382e-01, -2.8722e-02,  9.2640e-02,\n",
       "          2.4398e-01,  6.2921e-01, -1.7369e-02,  1.6639e-02, -4.4581e-01,\n",
       "          7.7823e-02, -6.2289e-02, -2.3348e-02, -2.8889e-01, -2.2036e-01,\n",
       "         -8.5507e-02,  6.7062e-01, -3.7682e-01, -2.2096e-01,  5.6228e-02,\n",
       "         -1.4542e-01, -4.7760e-02,  1.7666e-04,  1.8686e-01,  3.8326e-01,\n",
       "          4.7674e-01,  2.5936e-01,  7.6151e-02,  5.4916e-02,  4.0617e-01,\n",
       "          5.4856e-01,  3.9141e-01,  1.0159e-01, -4.9065e-01,  3.8508e-02,\n",
       "          1.7711e-01,  6.2157e-01, -7.1952e+00, -5.7378e-02, -2.4751e-01,\n",
       "         -6.1600e-01, -8.4024e-02, -4.2102e-01,  3.1242e-01, -2.2876e-01,\n",
       "         -5.1966e-01, -4.1997e-02, -2.1140e-01,  2.0288e-01, -8.8728e-02,\n",
       "         -5.2546e-01,  2.5903e-01,  6.8769e-01]])"
      ]
     },
     "execution_count": 5,
     "metadata": {},
     "output_type": "execute_result"
    }
   ],
   "source": [
    "cls_embedding"
   ]
  },
  {
   "cell_type": "markdown",
   "metadata": {},
   "source": [
    "## Data Importing"
   ]
  },
  {
   "cell_type": "code",
   "execution_count": 46,
   "metadata": {},
   "outputs": [
    {
     "data": {
      "text/html": [
       "<div>\n",
       "<style scoped>\n",
       "    .dataframe tbody tr th:only-of-type {\n",
       "        vertical-align: middle;\n",
       "    }\n",
       "\n",
       "    .dataframe tbody tr th {\n",
       "        vertical-align: top;\n",
       "    }\n",
       "\n",
       "    .dataframe thead th {\n",
       "        text-align: right;\n",
       "    }\n",
       "</style>\n",
       "<table border=\"1\" class=\"dataframe\">\n",
       "  <thead>\n",
       "    <tr style=\"text-align: right;\">\n",
       "      <th></th>\n",
       "      <th>airline_sentiment</th>\n",
       "      <th>sentiment_confidence</th>\n",
       "      <th>text</th>\n",
       "    </tr>\n",
       "  </thead>\n",
       "  <tbody>\n",
       "    <tr>\n",
       "      <th>0</th>\n",
       "      <td>neutral</td>\n",
       "      <td>1.0000</td>\n",
       "      <td>@VirginAmerica What @dhepburn said.</td>\n",
       "    </tr>\n",
       "    <tr>\n",
       "      <th>1</th>\n",
       "      <td>positive</td>\n",
       "      <td>0.3486</td>\n",
       "      <td>@VirginAmerica plus you've added commercials t...</td>\n",
       "    </tr>\n",
       "    <tr>\n",
       "      <th>2</th>\n",
       "      <td>neutral</td>\n",
       "      <td>0.6837</td>\n",
       "      <td>@VirginAmerica I didn't today... Must mean I n...</td>\n",
       "    </tr>\n",
       "    <tr>\n",
       "      <th>3</th>\n",
       "      <td>negative</td>\n",
       "      <td>1.0000</td>\n",
       "      <td>@VirginAmerica it's really aggressive to blast...</td>\n",
       "    </tr>\n",
       "    <tr>\n",
       "      <th>4</th>\n",
       "      <td>negative</td>\n",
       "      <td>1.0000</td>\n",
       "      <td>@VirginAmerica and it's a really big bad thing...</td>\n",
       "    </tr>\n",
       "  </tbody>\n",
       "</table>\n",
       "</div>"
      ],
      "text/plain": [
       "  airline_sentiment  sentiment_confidence  \\\n",
       "0           neutral                1.0000   \n",
       "1          positive                0.3486   \n",
       "2           neutral                0.6837   \n",
       "3          negative                1.0000   \n",
       "4          negative                1.0000   \n",
       "\n",
       "                                                text  \n",
       "0                @VirginAmerica What @dhepburn said.  \n",
       "1  @VirginAmerica plus you've added commercials t...  \n",
       "2  @VirginAmerica I didn't today... Must mean I n...  \n",
       "3  @VirginAmerica it's really aggressive to blast...  \n",
       "4  @VirginAmerica and it's a really big bad thing...  "
      ]
     },
     "execution_count": 46,
     "metadata": {},
     "output_type": "execute_result"
    }
   ],
   "source": [
    "tweets = pd.read_csv(\"../Data/Raw/Tweets.csv\")\n",
    "tweets.head()"
   ]
  },
  {
   "cell_type": "markdown",
   "metadata": {},
   "source": [
    "### Code starts here"
   ]
  },
  {
   "cell_type": "code",
   "execution_count": 47,
   "metadata": {},
   "outputs": [
    {
     "data": {
      "text/plain": [
       "(14639, 3)"
      ]
     },
     "execution_count": 47,
     "metadata": {},
     "output_type": "execute_result"
    }
   ],
   "source": [
    "tweets.shape\n"
   ]
  },
  {
   "cell_type": "code",
   "execution_count": 48,
   "metadata": {},
   "outputs": [
    {
     "data": {
      "text/plain": [
       "\"@VirginAmerica plus you've added commercials to the experience... tacky.\""
      ]
     },
     "execution_count": 48,
     "metadata": {},
     "output_type": "execute_result"
    }
   ],
   "source": [
    "tweets[\"text\"][1]"
   ]
  },
  {
   "cell_type": "code",
   "execution_count": 49,
   "metadata": {},
   "outputs": [],
   "source": [
    "def at_filter(text):\n",
    "    return re.sub(r\"@\\w+\", \"\", text)"
   ]
  },
  {
   "cell_type": "code",
   "execution_count": 50,
   "metadata": {},
   "outputs": [],
   "source": [
    "def alpha_filter(text):\n",
    "    return re.sub(r'[^A-Za-z ]', '', text)"
   ]
  },
  {
   "cell_type": "markdown",
   "metadata": {},
   "source": [
    "## Data Cleaning"
   ]
  },
  {
   "cell_type": "code",
   "execution_count": 51,
   "metadata": {},
   "outputs": [],
   "source": [
    "tweets[\"text\"] = tweets[\"text\"].apply(lambda x: at_filter(x))\n"
   ]
  },
  {
   "cell_type": "code",
   "execution_count": 52,
   "metadata": {},
   "outputs": [],
   "source": [
    "tweets[\"text\"] = tweets[\"text\"].apply(lambda x: alpha_filter(x))"
   ]
  },
  {
   "cell_type": "code",
   "execution_count": 53,
   "metadata": {},
   "outputs": [
    {
     "data": {
      "text/html": [
       "<div>\n",
       "<style scoped>\n",
       "    .dataframe tbody tr th:only-of-type {\n",
       "        vertical-align: middle;\n",
       "    }\n",
       "\n",
       "    .dataframe tbody tr th {\n",
       "        vertical-align: top;\n",
       "    }\n",
       "\n",
       "    .dataframe thead th {\n",
       "        text-align: right;\n",
       "    }\n",
       "</style>\n",
       "<table border=\"1\" class=\"dataframe\">\n",
       "  <thead>\n",
       "    <tr style=\"text-align: right;\">\n",
       "      <th></th>\n",
       "      <th>airline_sentiment</th>\n",
       "      <th>sentiment_confidence</th>\n",
       "      <th>text</th>\n",
       "    </tr>\n",
       "  </thead>\n",
       "  <tbody>\n",
       "    <tr>\n",
       "      <th>0</th>\n",
       "      <td>neutral</td>\n",
       "      <td>1.0000</td>\n",
       "      <td>What  said</td>\n",
       "    </tr>\n",
       "    <tr>\n",
       "      <th>1</th>\n",
       "      <td>positive</td>\n",
       "      <td>0.3486</td>\n",
       "      <td>plus youve added commercials to the experienc...</td>\n",
       "    </tr>\n",
       "    <tr>\n",
       "      <th>2</th>\n",
       "      <td>neutral</td>\n",
       "      <td>0.6837</td>\n",
       "      <td>I didnt today Must mean I need to take anothe...</td>\n",
       "    </tr>\n",
       "    <tr>\n",
       "      <th>3</th>\n",
       "      <td>negative</td>\n",
       "      <td>1.0000</td>\n",
       "      <td>its really aggressive to blast obnoxious ente...</td>\n",
       "    </tr>\n",
       "    <tr>\n",
       "      <th>4</th>\n",
       "      <td>negative</td>\n",
       "      <td>1.0000</td>\n",
       "      <td>and its a really big bad thing about it</td>\n",
       "    </tr>\n",
       "    <tr>\n",
       "      <th>...</th>\n",
       "      <td>...</td>\n",
       "      <td>...</td>\n",
       "      <td>...</td>\n",
       "    </tr>\n",
       "    <tr>\n",
       "      <th>14634</th>\n",
       "      <td>positive</td>\n",
       "      <td>0.3487</td>\n",
       "      <td>thank you we got on a different flight to Chi...</td>\n",
       "    </tr>\n",
       "    <tr>\n",
       "      <th>14635</th>\n",
       "      <td>negative</td>\n",
       "      <td>1.0000</td>\n",
       "      <td>leaving over  minutes Late Flight No warnings...</td>\n",
       "    </tr>\n",
       "    <tr>\n",
       "      <th>14636</th>\n",
       "      <td>neutral</td>\n",
       "      <td>1.0000</td>\n",
       "      <td>Please bring American Airlines to BlackBerry</td>\n",
       "    </tr>\n",
       "    <tr>\n",
       "      <th>14637</th>\n",
       "      <td>negative</td>\n",
       "      <td>1.0000</td>\n",
       "      <td>you have my money you change my flight and do...</td>\n",
       "    </tr>\n",
       "    <tr>\n",
       "      <th>14638</th>\n",
       "      <td>neutral</td>\n",
       "      <td>0.6771</td>\n",
       "      <td>we have  ppl so we need  know how many seats ...</td>\n",
       "    </tr>\n",
       "  </tbody>\n",
       "</table>\n",
       "<p>14639 rows × 3 columns</p>\n",
       "</div>"
      ],
      "text/plain": [
       "      airline_sentiment  sentiment_confidence  \\\n",
       "0               neutral                1.0000   \n",
       "1              positive                0.3486   \n",
       "2               neutral                0.6837   \n",
       "3              negative                1.0000   \n",
       "4              negative                1.0000   \n",
       "...                 ...                   ...   \n",
       "14634          positive                0.3487   \n",
       "14635          negative                1.0000   \n",
       "14636           neutral                1.0000   \n",
       "14637          negative                1.0000   \n",
       "14638           neutral                0.6771   \n",
       "\n",
       "                                                    text  \n",
       "0                                             What  said  \n",
       "1       plus youve added commercials to the experienc...  \n",
       "2       I didnt today Must mean I need to take anothe...  \n",
       "3       its really aggressive to blast obnoxious ente...  \n",
       "4                and its a really big bad thing about it  \n",
       "...                                                  ...  \n",
       "14634   thank you we got on a different flight to Chi...  \n",
       "14635   leaving over  minutes Late Flight No warnings...  \n",
       "14636       Please bring American Airlines to BlackBerry  \n",
       "14637   you have my money you change my flight and do...  \n",
       "14638   we have  ppl so we need  know how many seats ...  \n",
       "\n",
       "[14639 rows x 3 columns]"
      ]
     },
     "execution_count": 53,
     "metadata": {},
     "output_type": "execute_result"
    }
   ],
   "source": [
    "tweets"
   ]
  },
  {
   "cell_type": "code",
   "execution_count": 54,
   "metadata": {},
   "outputs": [],
   "source": [
    "tweets.to_csv(\"../Data/Cleaned/CleanTweets.csv\")"
   ]
  },
  {
   "cell_type": "code",
   "execution_count": 57,
   "metadata": {},
   "outputs": [
    {
     "data": {
      "text/plain": [
       "166"
      ]
     },
     "execution_count": 57,
     "metadata": {},
     "output_type": "execute_result"
    }
   ],
   "source": [
    "max(list(map(lambda x: len(x), tweets[\"text\"])))"
   ]
  }
 ],
 "metadata": {
  "kernelspec": {
   "display_name": "Python 3",
   "language": "python",
   "name": "python3"
  },
  "language_info": {
   "codemirror_mode": {
    "name": "ipython",
    "version": 3
   },
   "file_extension": ".py",
   "mimetype": "text/x-python",
   "name": "python",
   "nbconvert_exporter": "python",
   "pygments_lexer": "ipython3",
   "version": "3.10.11"
  }
 },
 "nbformat": 4,
 "nbformat_minor": 2
}
